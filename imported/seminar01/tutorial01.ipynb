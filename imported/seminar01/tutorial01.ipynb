{
 "cells": [
  {
   "cell_type": "markdown",
   "metadata": {
    "Collapsed": "false"
   },
   "source": [
    "# Tutorial 01 – Working with Data"
   ]
  },
  {
   "cell_type": "markdown",
   "metadata": {
    "Collapsed": "false"
   },
   "source": [
    "In this tutorial we will take a look at how to represent, manipulate, store, and load data. We will use two main packages called `NumPy` and `pandas`. The actual representation of data is handled by `NumPy` and it uses n-dimensional array objects to stored the data. Part of the code is written in C, C++, and Fortran to make it fast. `pandas` is high-level abstraction that makes data manipulation like selecting a specific subset of data, grouping, and basic plotting simple. Mastering just these two packages almost qualifies you as a data scientist.\n",
    "\n",
    "While none of these two packages is really doing any machine learning you can go quite a long way with them. `NumPy` alone is perfect for any linear algebra like matrix multiplication and it is an essential requirement for other machine learning packages. `pandas` is great for exploring data and storing/loading data.\n",
    "\n",
    "Remember, nicely prepared data are the key to success in machine learning."
   ]
  },
  {
   "cell_type": "markdown",
   "metadata": {
    "Collapsed": "false"
   },
   "source": [
    "## NumPy"
   ]
  },
  {
   "cell_type": "markdown",
   "metadata": {
    "Collapsed": "false"
   },
   "source": [
    "`NumPy` is typically imported with alias `np` to save some characters."
   ]
  },
  {
   "cell_type": "code",
   "execution_count": 1,
   "metadata": {},
   "outputs": [],
   "source": [
    "import numpy as np"
   ]
  },
  {
   "cell_type": "markdown",
   "metadata": {
    "Collapsed": "false"
   },
   "source": [
    "You can create a simple array right from a list."
   ]
  },
  {
   "cell_type": "code",
   "execution_count": 2,
   "metadata": {},
   "outputs": [
    {
     "output_type": "execute_result",
     "data": {
      "text/plain": "array([1, 2, 3, 4])"
     },
     "metadata": {},
     "execution_count": 2
    }
   ],
   "source": [
    "alist = [1,2,3,4]\n",
    "array = np.array(alist)\n",
    "array   "
   ]
  },
  {
   "cell_type": "markdown",
   "metadata": {
    "Collapsed": "false"
   },
   "source": [
    "They behave quite similarly in terms of indexing and slicing. Doing any operations with arrays is quite different though. They behave more like vectors (which they are after all). The key difference is that it is a proper array and it cannot be easily extended with new elements."
   ]
  },
  {
   "cell_type": "code",
   "execution_count": 3,
   "metadata": {},
   "outputs": [
    {
     "output_type": "stream",
     "name": "stdout",
     "text": "2\n[2 4]\n[2 4 6 8]\n[11 12 13 14]\n[2 4 6 8]\n[ 1  4  9 16]\n"
    }
   ],
   "source": [
    "print(array[1])\n",
    "print(array[1::2])\n",
    "print(array * 2)\n",
    "print(array + 10)\n",
    "print(array + array)\n",
    "print(array * array)\n",
    "# array.append(10) this does not work!"
   ]
  },
  {
   "cell_type": "markdown",
   "metadata": {
    "Collapsed": "false"
   },
   "source": [
    "Notice that the math operations are done element-wise. Multiplying `array` with it self results in vector of squared elements. If you would like to do some linear algebra you need to call a method."
   ]
  },
  {
   "cell_type": "code",
   "execution_count": 4,
   "metadata": {},
   "outputs": [
    {
     "output_type": "execute_result",
     "data": {
      "text/plain": "30"
     },
     "metadata": {},
     "execution_count": 4
    }
   ],
   "source": [
    "array.dot(array)"
   ]
  },
  {
   "cell_type": "markdown",
   "metadata": {
    "Collapsed": "false"
   },
   "source": [
    "Now its time to go to higher dimensions."
   ]
  },
  {
   "cell_type": "code",
   "execution_count": 5,
   "metadata": {},
   "outputs": [
    {
     "output_type": "execute_result",
     "data": {
      "text/plain": "array([[1, 2, 3],\n       [4, 5, 6],\n       [7, 8, 9]])"
     },
     "metadata": {},
     "execution_count": 5
    }
   ],
   "source": [
    "matrix = np.array([\n",
    "    [1,2,3],\n",
    "    [4,5,6],\n",
    "    [7,8,9]])\n",
    "matrix"
   ]
  },
  {
   "cell_type": "markdown",
   "metadata": {
    "Collapsed": "false"
   },
   "source": [
    "Multidimensional arrays can be also index in each dimension. "
   ]
  },
  {
   "cell_type": "code",
   "execution_count": 6,
   "metadata": {},
   "outputs": [
    {
     "output_type": "execute_result",
     "data": {
      "text/plain": "array([[4, 5],\n       [7, 8]])"
     },
     "metadata": {},
     "execution_count": 6
    }
   ],
   "source": [
    "matrix[1:, :2]"
   ]
  },
  {
   "cell_type": "markdown",
   "metadata": {
    "Collapsed": "false"
   },
   "source": [
    "You can even use array of booleans to take elements on indices with value True."
   ]
  },
  {
   "cell_type": "code",
   "execution_count": 7,
   "metadata": {},
   "outputs": [
    {
     "output_type": "execute_result",
     "data": {
      "text/plain": "array([[1, 2, 3],\n       [7, 8, 9]])"
     },
     "metadata": {},
     "execution_count": 7
    }
   ],
   "source": [
    "matrix[[True, False, True]]"
   ]
  },
  {
   "cell_type": "markdown",
   "metadata": {
    "Collapsed": "false"
   },
   "source": [
    "Often you will need to create larger arrays with some specific values and you would not want to manually fill all the numbers. Luckily, there are handful of methods at your disposal."
   ]
  },
  {
   "cell_type": "code",
   "execution_count": 8,
   "metadata": {},
   "outputs": [
    {
     "output_type": "stream",
     "name": "stdout",
     "text": "[0. 0. 0. 0. 0. 0. 0. 0. 0. 0.]\n[7 7 7]\n[[1. 0. 0. 0. 0. 0. 0. 0. 0. 0.]\n [0. 1. 0. 0. 0. 0. 0. 0. 0. 0.]\n [0. 0. 1. 0. 0. 0. 0. 0. 0. 0.]\n [0. 0. 0. 1. 0. 0. 0. 0. 0. 0.]\n [0. 0. 0. 0. 1. 0. 0. 0. 0. 0.]\n [0. 0. 0. 0. 0. 1. 0. 0. 0. 0.]\n [0. 0. 0. 0. 0. 0. 1. 0. 0. 0.]\n [0. 0. 0. 0. 0. 0. 0. 1. 0. 0.]\n [0. 0. 0. 0. 0. 0. 0. 0. 1. 0.]\n [0. 0. 0. 0. 0. 0. 0. 0. 0. 1.]]\n"
    }
   ],
   "source": [
    "print(np.zeros(10))\n",
    "print(np.full(3, fill_value=7))\n",
    "print(np.identity(10))"
   ]
  },
  {
   "cell_type": "markdown",
   "metadata": {
    "Collapsed": "false"
   },
   "source": [
    "Now, every array has its shape, i.e., dimensions. They are always represented as tuples and each dimension is called axis."
   ]
  },
  {
   "cell_type": "code",
   "execution_count": 9,
   "metadata": {},
   "outputs": [
    {
     "output_type": "stream",
     "name": "stdout",
     "text": "(4,)\n(10, 10)\n"
    }
   ],
   "source": [
    "print(array.shape)\n",
    "print(np.identity(10).shape)"
   ]
  },
  {
   "cell_type": "markdown",
   "metadata": {
    "Collapsed": "false"
   },
   "source": [
    "Note that when creating an array you can supply any wild shape you want the new array to have. That's right, you can make a tensor."
   ]
  },
  {
   "cell_type": "code",
   "execution_count": 10,
   "metadata": {},
   "outputs": [
    {
     "output_type": "execute_result",
     "data": {
      "text/plain": "array([[[1., 1., 1., 1., 1., 1., 1.],\n        [1., 1., 1., 1., 1., 1., 1.],\n        [1., 1., 1., 1., 1., 1., 1.],\n        [1., 1., 1., 1., 1., 1., 1.],\n        [1., 1., 1., 1., 1., 1., 1.]],\n\n       [[1., 1., 1., 1., 1., 1., 1.],\n        [1., 1., 1., 1., 1., 1., 1.],\n        [1., 1., 1., 1., 1., 1., 1.],\n        [1., 1., 1., 1., 1., 1., 1.],\n        [1., 1., 1., 1., 1., 1., 1.]],\n\n       [[1., 1., 1., 1., 1., 1., 1.],\n        [1., 1., 1., 1., 1., 1., 1.],\n        [1., 1., 1., 1., 1., 1., 1.],\n        [1., 1., 1., 1., 1., 1., 1.],\n        [1., 1., 1., 1., 1., 1., 1.]]])"
     },
     "metadata": {},
     "execution_count": 10
    }
   ],
   "source": [
    "np.ones(shape=(3, 5, 7))"
   ]
  },
  {
   "cell_type": "markdown",
   "metadata": {
    "Collapsed": "false"
   },
   "source": [
    "Every array can be reshaped into any shape you like as long as the number of elements is equal to the product of array dimensions."
   ]
  },
  {
   "cell_type": "markdown",
   "metadata": {
    "Collapsed": "false"
   },
   "source": [
    "<div class=\"alert alert-block alert-warning\"><b>Exercise 1</b></div>"
   ]
  },
  {
   "cell_type": "markdown",
   "metadata": {
    "Collapsed": "false"
   },
   "source": [
    "Reshape the vector $\\mathbf{a}$ into shape $(3,4,2)$, multiply it with matrix $\\mathbf{M}$ and than flatten it back to vector. The expected result is $[ 11,  53,  95, 137, 179, 221, 263, 305, 347, 389, 431, 473]$."
   ]
  },
  {
   "cell_type": "code",
   "execution_count": 16,
   "metadata": {},
   "outputs": [
    {
     "output_type": "execute_result",
     "data": {
      "text/plain": "array([ 11,  53,  95, 137, 179, 221, 263, 305, 347, 389, 431, 473])"
     },
     "metadata": {},
     "execution_count": 16
    }
   ],
   "source": [
    "M = np.arange(10, 12)\n",
    "a = np.arange(24)\n",
    "\n",
    "# TODO: your code goes here...\n",
    "a = np.reshape(a, (3,4,2))\n",
    "a = np.dot(a, M)\n",
    "a = np.reshape(a, -1)\n",
    "a"
   ]
  },
  {
   "cell_type": "markdown",
   "metadata": {
    "Collapsed": "false"
   },
   "source": [
    "All these operations are incredibly fast. Below is a code that takes the matrix and normalizes the values, i.e., divides all values by maximal value in the matrix."
   ]
  },
  {
   "cell_type": "code",
   "execution_count": 17,
   "metadata": {},
   "outputs": [
    {
     "output_type": "stream",
     "name": "stdout",
     "text": "2.87 ms ± 491 µs per loop (mean ± std. dev. of 7 runs, 5 loops each)\n"
    }
   ],
   "source": [
    "matrix = np.random.randint(0, 100, (1000, 1000))\n",
    "%timeit -n 5 matrix / matrix.max()"
   ]
  },
  {
   "cell_type": "markdown",
   "metadata": {
    "Collapsed": "false"
   },
   "source": [
    "<div class=\"alert alert-block alert-warning\"><b>Exercise 2</b></div>"
   ]
  },
  {
   "cell_type": "markdown",
   "metadata": {
    "Collapsed": "false"
   },
   "source": [
    "Write a function that does the same thing, i.e., divides each element by the maximal values in the matrix, but with list of lists and compare the times."
   ]
  },
  {
   "cell_type": "code",
   "execution_count": 32,
   "metadata": {},
   "outputs": [],
   "source": [
    "def normalize(list_matrix):\n",
    "    # TODO: your code goes here...\n",
    "    max_value = max(max(matrix) for matrix in list_matrix)\n",
    "    return [ [ value / max_value for value in matrix ] for matrix in list_matrix ]"
   ]
  },
  {
   "cell_type": "code",
   "execution_count": 33,
   "metadata": {},
   "outputs": [
    {
     "output_type": "stream",
     "name": "stdout",
     "text": "81.1 ms ± 781 µs per loop (mean ± std. dev. of 7 runs, 5 loops each)\n"
    }
   ],
   "source": [
    "list_matrix = matrix.tolist()\n",
    "%timeit -n 5 normalize(list_matrix)"
   ]
  },
  {
   "cell_type": "markdown",
   "metadata": {
    "Collapsed": "false"
   },
   "source": [
    "<div class=\"alert alert-block alert-warning\"><b>Exercise 3</b></div>"
   ]
  },
  {
   "cell_type": "markdown",
   "metadata": {
    "Collapsed": "false"
   },
   "source": [
    "Later in the course we will use metrics to evaluate machine learning models. Write a function `rmse(x, y)` that computes one such metric called Root Mean Squared Error (RMSE) of two vectors $x$ and $y$ given by the following formula $$\\text{RMSE} = \\sqrt{\\frac{\\sum_{i=0}^{n}{(x_i-y_i)^2}}{n}}$$\n",
    "\n",
    "The expected result for the predefined vectors is 2.16794833886788."
   ]
  },
  {
   "cell_type": "code",
   "execution_count": 38,
   "metadata": {},
   "outputs": [
    {
     "output_type": "execute_result",
     "data": {
      "text/plain": "2.16794833886788"
     },
     "metadata": {},
     "execution_count": 38
    }
   ],
   "source": [
    "x = np.array([0, 4, 1, 0, 2, 0, 2, 2, 4, 2])\n",
    "y = np.array([1, 1, 2, 3, 1, 4, 1, 0, 3, 4])\n",
    "\n",
    "def rmse(x, y):\n",
    "    # TODO: your code goes here...\n",
    "    return np.sqrt(np.mean((x - y) ** 2))\n",
    "\n",
    "rmse(x,y)"
   ]
  },
  {
   "cell_type": "markdown",
   "metadata": {
    "Collapsed": "false"
   },
   "source": [
    "<div class=\"alert alert-block alert-warning\"><b>Exercise 4</b></div>"
   ]
  },
  {
   "cell_type": "markdown",
   "metadata": {
    "Collapsed": "false"
   },
   "source": [
    "Typical operation in linear algebra you might encounter is a matrix multiplication. Let's say we measure three quantities (e.g. width, height, and depth of real life objects). For each observation we have a vector of these measurements $(w, h, d)$. Now suppose we need to transform these measurements for further processing such that each observation is transformed into $(w+h, h-d)$. We want to transform these observations at once using transformation matrix $\\mathbf{M}$.\n",
    "1. Stack observation into a matrix of observations $\\mathbf{X}$ with each row corresponding to one of the observations, i.e. $\\mathbf{X} = \\begin{pmatrix}x_1 \\\\ x_2 \\\\ x_3 \\\\ x_4\\end{pmatrix}$.\n",
    "2. Write a transformation matrix $\\mathbf{M}$ such that $\\mathbf{X}\\mathbf{M} = \\mathbf{Y}$ where $\\mathbf{Y}$ has transformed observations as rows. In other words, the following equations needs to hold.\n",
    "$$\\begin{pmatrix}1 & 4 & 6 \\\\ 2 & 4 & 7 \\\\ 1 & 2 & 8 \\\\ 1 & 4 & 9\\end{pmatrix} \\times \\mathbf{M} = \\begin{pmatrix}5 & -2 \\\\ 6 & -3 \\\\ 3 & -6 \\\\ 5 & -5 \\end{pmatrix}$$"
   ]
  },
  {
   "cell_type": "code",
   "execution_count": 40,
   "metadata": {},
   "outputs": [
    {
     "output_type": "execute_result",
     "data": {
      "text/plain": "array([[ 5, -2],\n       [ 6, -3],\n       [ 3, -6],\n       [ 5, -5]])"
     },
     "metadata": {},
     "execution_count": 40
    }
   ],
   "source": [
    "x1 = np.array([1, 4, 6])\n",
    "x2 = np.array([2, 4, 7])\n",
    "x3 = np.array([1, 2, 8])\n",
    "x4 = np.array([1, 4, 9])\n",
    "\n",
    "# TODO: your code goes here...\n",
    "X = np.stack((x1, x2, x3, x4))\n",
    "M = np.array([\n",
    "    [1, 0],\n",
    "    [1, 1],\n",
    "    [0, -1]\n",
    "])\n",
    "X @ M"
   ]
  },
  {
   "cell_type": "markdown",
   "metadata": {
    "Collapsed": "false"
   },
   "source": [
    "<div class=\"alert alert-block alert-warning\"><b>Exercise 5</b></div>"
   ]
  },
  {
   "cell_type": "markdown",
   "metadata": {
    "Collapsed": "false"
   },
   "source": [
    "Matrix multiplication is also basis for projections that helps to reduce dimensionality of the data. One such projection is known as Principal Component Analysis (PCA) that we will cover in depth later. For now, let's say we have observation $\\mathbf{x_1},\\ldots,\\mathbf{x_4}$ and we want to project them using PCA.\n",
    "1. Stack observation vectors into a matrix $\\mathbf{X}$.\n",
    "2. Center each column of $\\mathbf{X}$ by subtracting its mean. We lable the centered matrix $\\mathbf{X_c}$.\n",
    "3. Compute $\\mathbf{C_X}$ which is a covariation matrix of $\\mathbf{X^T}$, i.e., transposed matrix $\\mathbf{X}$.\n",
    "4. Computer projected observations $\\mathbf{Y}$ given by the formula\n",
    "$$\\mathbf{Y} = \\mathbf{X_c}\\mathbf{P}$$\n",
    "where $\\mathbf{P}$ is a matrix of eigenvectors of $\\mathbf{C_X}$.\n",
    "\n",
    "Expected result for the given observations is $$Y = \\begin{pmatrix}  \\phantom{-}0.61750836 & \\phantom{-}0.10599488 & -0.02394807 & 0. \\\\ -0.48025785 & -0.12818168 & -0.03235508 & 0. \\\\ \\phantom{-}0.22710374 & -0.20107790 & \\phantom{-}0.03341513 & 0. \\\\ -0.36435424 & \\phantom{-}0.22326470 & \\phantom{-}0.02288802 &  0. \\end{pmatrix}$$"
   ]
  },
  {
   "cell_type": "code",
   "execution_count": 48,
   "metadata": {},
   "outputs": [
    {
     "output_type": "execute_result",
     "data": {
      "text/plain": "array([[ 0.61750836,  0.10599488, -0.02394807,  0.        ],\n       [-0.48025785, -0.12818168, -0.03235508,  0.        ],\n       [ 0.22710374, -0.2010779 ,  0.03341513,  0.        ],\n       [-0.36435424,  0.2232647 ,  0.02288802,  0.        ]])"
     },
     "metadata": {},
     "execution_count": 48
    }
   ],
   "source": [
    "x1 = np.array([1, 1, 1, 1])\n",
    "x2 = np.array([1, 0.5, 0.9, 0])\n",
    "x3 = np.array([1, 1, 1, 0.5])\n",
    "x4 = np.array([1, 0.3, 1, 0.3])\n",
    "X = np.stack((x1,x2,x3,x4))\n",
    "\n",
    "# TODO: your code goes here...\n",
    "X_c = X - np.mean(X, axis=0)\n",
    "C_x = np.cov(X.T)\n",
    "_, P = np.linalg.eig(C_x)\n",
    "Y = X_c @ P\n",
    "Y"
   ]
  },
  {
   "cell_type": "markdown",
   "metadata": {
    "Collapsed": "false"
   },
   "source": [
    "## Pandas"
   ]
  },
  {
   "cell_type": "markdown",
   "metadata": {
    "Collapsed": "false"
   },
   "source": [
    "`Pandas` is usually imported with alias `pd` to save some characters."
   ]
  },
  {
   "cell_type": "code",
   "execution_count": 49,
   "metadata": {},
   "outputs": [],
   "source": [
    "import pandas as pd"
   ]
  },
  {
   "cell_type": "markdown",
   "metadata": {
    "Collapsed": "false"
   },
   "source": [
    "The main feature of `Pandas` is a data structure called `DataFrame`. You can think of it as a table with named columns and number rows. Let's create some data frames."
   ]
  },
  {
   "cell_type": "code",
   "execution_count": 50,
   "metadata": {},
   "outputs": [
    {
     "output_type": "execute_result",
     "data": {
      "text/plain": "        number greeting  ratio\nfirst       10      hey   0.30\nsecond      20       hi   0.10\nthird       30    hello   0.16",
      "text/html": "<div>\n<style scoped>\n    .dataframe tbody tr th:only-of-type {\n        vertical-align: middle;\n    }\n\n    .dataframe tbody tr th {\n        vertical-align: top;\n    }\n\n    .dataframe thead th {\n        text-align: right;\n    }\n</style>\n<table border=\"1\" class=\"dataframe\">\n  <thead>\n    <tr style=\"text-align: right;\">\n      <th></th>\n      <th>number</th>\n      <th>greeting</th>\n      <th>ratio</th>\n    </tr>\n  </thead>\n  <tbody>\n    <tr>\n      <th>first</th>\n      <td>10</td>\n      <td>hey</td>\n      <td>0.30</td>\n    </tr>\n    <tr>\n      <th>second</th>\n      <td>20</td>\n      <td>hi</td>\n      <td>0.10</td>\n    </tr>\n    <tr>\n      <th>third</th>\n      <td>30</td>\n      <td>hello</td>\n      <td>0.16</td>\n    </tr>\n  </tbody>\n</table>\n</div>"
     },
     "metadata": {},
     "execution_count": 50
    }
   ],
   "source": [
    "df = pd.DataFrame([[10, \"hey\", 0.3], [20, \"hi\", 0.1],[30, \"hello\", 0.16]], columns=[\"number\", \"greeting\", \"ratio\"], index=[\"first\", \"second\", \"third\"])\n",
    "df"
   ]
  },
  {
   "cell_type": "markdown",
   "metadata": {
    "Collapsed": "false"
   },
   "source": [
    "You can also specify data column-wise. Both styles produce the same result."
   ]
  },
  {
   "cell_type": "code",
   "execution_count": 51,
   "metadata": {},
   "outputs": [
    {
     "output_type": "execute_result",
     "data": {
      "text/plain": "        number greeting  ratio\nfirst       10      hey   0.30\nsecond      20       hi   0.10\nthird       30    hello   0.16",
      "text/html": "<div>\n<style scoped>\n    .dataframe tbody tr th:only-of-type {\n        vertical-align: middle;\n    }\n\n    .dataframe tbody tr th {\n        vertical-align: top;\n    }\n\n    .dataframe thead th {\n        text-align: right;\n    }\n</style>\n<table border=\"1\" class=\"dataframe\">\n  <thead>\n    <tr style=\"text-align: right;\">\n      <th></th>\n      <th>number</th>\n      <th>greeting</th>\n      <th>ratio</th>\n    </tr>\n  </thead>\n  <tbody>\n    <tr>\n      <th>first</th>\n      <td>10</td>\n      <td>hey</td>\n      <td>0.30</td>\n    </tr>\n    <tr>\n      <th>second</th>\n      <td>20</td>\n      <td>hi</td>\n      <td>0.10</td>\n    </tr>\n    <tr>\n      <th>third</th>\n      <td>30</td>\n      <td>hello</td>\n      <td>0.16</td>\n    </tr>\n  </tbody>\n</table>\n</div>"
     },
     "metadata": {},
     "execution_count": 51
    }
   ],
   "source": [
    "pd.DataFrame({\"number\": [10, 20, 30], \"greeting\": [\"hey\", \"hi\", \"hello\"], \"ratio\": [0.3, 0.1, 0.16]}, index=[\"first\", \"second\", \"third\"])"
   ]
  },
  {
   "cell_type": "markdown",
   "metadata": {
    "Collapsed": "false"
   },
   "source": [
    "You can select a sub-table both by names of columns/rows or by their indices. The data are actually saved as `Numpy` array so you can use the same indexing techniques."
   ]
  },
  {
   "cell_type": "code",
   "execution_count": 52,
   "metadata": {},
   "outputs": [
    {
     "output_type": "execute_result",
     "data": {
      "text/plain": "first     10\nsecond    20\nthird     30\nName: number, dtype: int64"
     },
     "metadata": {},
     "execution_count": 52
    }
   ],
   "source": [
    "df[\"number\"]"
   ]
  },
  {
   "cell_type": "code",
   "execution_count": 53,
   "metadata": {},
   "outputs": [
    {
     "output_type": "execute_result",
     "data": {
      "text/plain": "        number  ratio\nfirst       10   0.30\nsecond      20   0.10\nthird       30   0.16",
      "text/html": "<div>\n<style scoped>\n    .dataframe tbody tr th:only-of-type {\n        vertical-align: middle;\n    }\n\n    .dataframe tbody tr th {\n        vertical-align: top;\n    }\n\n    .dataframe thead th {\n        text-align: right;\n    }\n</style>\n<table border=\"1\" class=\"dataframe\">\n  <thead>\n    <tr style=\"text-align: right;\">\n      <th></th>\n      <th>number</th>\n      <th>ratio</th>\n    </tr>\n  </thead>\n  <tbody>\n    <tr>\n      <th>first</th>\n      <td>10</td>\n      <td>0.30</td>\n    </tr>\n    <tr>\n      <th>second</th>\n      <td>20</td>\n      <td>0.10</td>\n    </tr>\n    <tr>\n      <th>third</th>\n      <td>30</td>\n      <td>0.16</td>\n    </tr>\n  </tbody>\n</table>\n</div>"
     },
     "metadata": {},
     "execution_count": 53
    }
   ],
   "source": [
    "df[[\"number\", \"ratio\"]]"
   ]
  },
  {
   "cell_type": "code",
   "execution_count": 54,
   "metadata": {},
   "outputs": [
    {
     "output_type": "execute_result",
     "data": {
      "text/plain": "number       10\ngreeting    hey\nratio       0.3\nName: first, dtype: object"
     },
     "metadata": {},
     "execution_count": 54
    }
   ],
   "source": [
    "df.loc[\"first\"]"
   ]
  },
  {
   "cell_type": "code",
   "execution_count": 55,
   "metadata": {},
   "outputs": [
    {
     "output_type": "execute_result",
     "data": {
      "text/plain": "       number greeting  ratio\nfirst      10      hey   0.30\nthird      30    hello   0.16",
      "text/html": "<div>\n<style scoped>\n    .dataframe tbody tr th:only-of-type {\n        vertical-align: middle;\n    }\n\n    .dataframe tbody tr th {\n        vertical-align: top;\n    }\n\n    .dataframe thead th {\n        text-align: right;\n    }\n</style>\n<table border=\"1\" class=\"dataframe\">\n  <thead>\n    <tr style=\"text-align: right;\">\n      <th></th>\n      <th>number</th>\n      <th>greeting</th>\n      <th>ratio</th>\n    </tr>\n  </thead>\n  <tbody>\n    <tr>\n      <th>first</th>\n      <td>10</td>\n      <td>hey</td>\n      <td>0.30</td>\n    </tr>\n    <tr>\n      <th>third</th>\n      <td>30</td>\n      <td>hello</td>\n      <td>0.16</td>\n    </tr>\n  </tbody>\n</table>\n</div>"
     },
     "metadata": {},
     "execution_count": 55
    }
   ],
   "source": [
    "df.loc[[\"first\", \"third\"]]"
   ]
  },
  {
   "cell_type": "code",
   "execution_count": 56,
   "metadata": {},
   "outputs": [
    {
     "output_type": "execute_result",
     "data": {
      "text/plain": "      greeting\nfirst      hey\nthird    hello",
      "text/html": "<div>\n<style scoped>\n    .dataframe tbody tr th:only-of-type {\n        vertical-align: middle;\n    }\n\n    .dataframe tbody tr th {\n        vertical-align: top;\n    }\n\n    .dataframe thead th {\n        text-align: right;\n    }\n</style>\n<table border=\"1\" class=\"dataframe\">\n  <thead>\n    <tr style=\"text-align: right;\">\n      <th></th>\n      <th>greeting</th>\n    </tr>\n  </thead>\n  <tbody>\n    <tr>\n      <th>first</th>\n      <td>hey</td>\n    </tr>\n    <tr>\n      <th>third</th>\n      <td>hello</td>\n    </tr>\n  </tbody>\n</table>\n</div>"
     },
     "metadata": {},
     "execution_count": 56
    }
   ],
   "source": [
    "df.loc[[\"first\", \"third\"], [\"greeting\"]]"
   ]
  },
  {
   "cell_type": "code",
   "execution_count": 57,
   "metadata": {},
   "outputs": [
    {
     "output_type": "execute_result",
     "data": {
      "text/plain": "        number greeting\nsecond      20       hi\nthird       30    hello",
      "text/html": "<div>\n<style scoped>\n    .dataframe tbody tr th:only-of-type {\n        vertical-align: middle;\n    }\n\n    .dataframe tbody tr th {\n        vertical-align: top;\n    }\n\n    .dataframe thead th {\n        text-align: right;\n    }\n</style>\n<table border=\"1\" class=\"dataframe\">\n  <thead>\n    <tr style=\"text-align: right;\">\n      <th></th>\n      <th>number</th>\n      <th>greeting</th>\n    </tr>\n  </thead>\n  <tbody>\n    <tr>\n      <th>second</th>\n      <td>20</td>\n      <td>hi</td>\n    </tr>\n    <tr>\n      <th>third</th>\n      <td>30</td>\n      <td>hello</td>\n    </tr>\n  </tbody>\n</table>\n</div>"
     },
     "metadata": {},
     "execution_count": 57
    }
   ],
   "source": [
    "df.iloc[1:, :2]"
   ]
  },
  {
   "cell_type": "markdown",
   "metadata": {
    "Collapsed": "false"
   },
   "source": [
    "You can also query the data frame and get rows that satisfy a defined condition. This can be done either by supplying binary index vector (the first example) or explicitly calling `query` method (the second example)."
   ]
  },
  {
   "cell_type": "code",
   "execution_count": 58,
   "metadata": {},
   "outputs": [
    {
     "output_type": "execute_result",
     "data": {
      "text/plain": "       number greeting  ratio\nthird      30    hello   0.16",
      "text/html": "<div>\n<style scoped>\n    .dataframe tbody tr th:only-of-type {\n        vertical-align: middle;\n    }\n\n    .dataframe tbody tr th {\n        vertical-align: top;\n    }\n\n    .dataframe thead th {\n        text-align: right;\n    }\n</style>\n<table border=\"1\" class=\"dataframe\">\n  <thead>\n    <tr style=\"text-align: right;\">\n      <th></th>\n      <th>number</th>\n      <th>greeting</th>\n      <th>ratio</th>\n    </tr>\n  </thead>\n  <tbody>\n    <tr>\n      <th>third</th>\n      <td>30</td>\n      <td>hello</td>\n      <td>0.16</td>\n    </tr>\n  </tbody>\n</table>\n</div>"
     },
     "metadata": {},
     "execution_count": 58
    }
   ],
   "source": [
    "df[(df.number >= 20) & (df.greeting.str.contains('e'))]"
   ]
  },
  {
   "cell_type": "code",
   "execution_count": 59,
   "metadata": {},
   "outputs": [
    {
     "output_type": "execute_result",
     "data": {
      "text/plain": "        number greeting  ratio\nsecond      20       hi   0.10\nthird       30    hello   0.16",
      "text/html": "<div>\n<style scoped>\n    .dataframe tbody tr th:only-of-type {\n        vertical-align: middle;\n    }\n\n    .dataframe tbody tr th {\n        vertical-align: top;\n    }\n\n    .dataframe thead th {\n        text-align: right;\n    }\n</style>\n<table border=\"1\" class=\"dataframe\">\n  <thead>\n    <tr style=\"text-align: right;\">\n      <th></th>\n      <th>number</th>\n      <th>greeting</th>\n      <th>ratio</th>\n    </tr>\n  </thead>\n  <tbody>\n    <tr>\n      <th>second</th>\n      <td>20</td>\n      <td>hi</td>\n      <td>0.10</td>\n    </tr>\n    <tr>\n      <th>third</th>\n      <td>30</td>\n      <td>hello</td>\n      <td>0.16</td>\n    </tr>\n  </tbody>\n</table>\n</div>"
     },
     "metadata": {},
     "execution_count": 59
    }
   ],
   "source": [
    "df.query('number > (ratio * 100)')"
   ]
  },
  {
   "cell_type": "markdown",
   "metadata": {
    "Collapsed": "false"
   },
   "source": [
    "`Pandas` also implements all the basic statistics you might need to know about data."
   ]
  },
  {
   "cell_type": "code",
   "execution_count": 60,
   "metadata": {},
   "outputs": [
    {
     "output_type": "execute_result",
     "data": {
      "text/plain": "       number     ratio\ncount     3.0  3.000000\nmean     20.0  0.186667\nstd      10.0  0.102632\nmin      10.0  0.100000\n25%      15.0  0.130000\n50%      20.0  0.160000\n75%      25.0  0.230000\nmax      30.0  0.300000",
      "text/html": "<div>\n<style scoped>\n    .dataframe tbody tr th:only-of-type {\n        vertical-align: middle;\n    }\n\n    .dataframe tbody tr th {\n        vertical-align: top;\n    }\n\n    .dataframe thead th {\n        text-align: right;\n    }\n</style>\n<table border=\"1\" class=\"dataframe\">\n  <thead>\n    <tr style=\"text-align: right;\">\n      <th></th>\n      <th>number</th>\n      <th>ratio</th>\n    </tr>\n  </thead>\n  <tbody>\n    <tr>\n      <th>count</th>\n      <td>3.0</td>\n      <td>3.000000</td>\n    </tr>\n    <tr>\n      <th>mean</th>\n      <td>20.0</td>\n      <td>0.186667</td>\n    </tr>\n    <tr>\n      <th>std</th>\n      <td>10.0</td>\n      <td>0.102632</td>\n    </tr>\n    <tr>\n      <th>min</th>\n      <td>10.0</td>\n      <td>0.100000</td>\n    </tr>\n    <tr>\n      <th>25%</th>\n      <td>15.0</td>\n      <td>0.130000</td>\n    </tr>\n    <tr>\n      <th>50%</th>\n      <td>20.0</td>\n      <td>0.160000</td>\n    </tr>\n    <tr>\n      <th>75%</th>\n      <td>25.0</td>\n      <td>0.230000</td>\n    </tr>\n    <tr>\n      <th>max</th>\n      <td>30.0</td>\n      <td>0.300000</td>\n    </tr>\n  </tbody>\n</table>\n</div>"
     },
     "metadata": {},
     "execution_count": 60
    }
   ],
   "source": [
    "df.describe()"
   ]
  },
  {
   "cell_type": "code",
   "execution_count": 61,
   "metadata": {},
   "outputs": [
    {
     "output_type": "execute_result",
     "data": {
      "text/plain": "20.0"
     },
     "metadata": {},
     "execution_count": 61
    }
   ],
   "source": [
    "df['number'].median()"
   ]
  },
  {
   "cell_type": "markdown",
   "metadata": {
    "Collapsed": "false"
   },
   "source": [
    "Apart from manipulating data in memory, it is also handy for loading and storing data on disk. It implements many standard file formats like `csv`, `hdf`, and `pickle`. Saving and loading a file is as easy as calling a single method."
   ]
  },
  {
   "cell_type": "code",
   "execution_count": null,
   "metadata": {},
   "outputs": [],
   "source": [
    "df.to_csv('example.csv')"
   ]
  },
  {
   "cell_type": "code",
   "execution_count": 62,
   "metadata": {},
   "outputs": [
    {
     "output_type": "execute_result",
     "data": {
      "text/plain": "  Unnamed: 0  number greeting  ratio\n0      first      10      hey   0.30\n1     second      20       hi   0.10\n2      third      30    hello   0.16",
      "text/html": "<div>\n<style scoped>\n    .dataframe tbody tr th:only-of-type {\n        vertical-align: middle;\n    }\n\n    .dataframe tbody tr th {\n        vertical-align: top;\n    }\n\n    .dataframe thead th {\n        text-align: right;\n    }\n</style>\n<table border=\"1\" class=\"dataframe\">\n  <thead>\n    <tr style=\"text-align: right;\">\n      <th></th>\n      <th>Unnamed: 0</th>\n      <th>number</th>\n      <th>greeting</th>\n      <th>ratio</th>\n    </tr>\n  </thead>\n  <tbody>\n    <tr>\n      <th>0</th>\n      <td>first</td>\n      <td>10</td>\n      <td>hey</td>\n      <td>0.30</td>\n    </tr>\n    <tr>\n      <th>1</th>\n      <td>second</td>\n      <td>20</td>\n      <td>hi</td>\n      <td>0.10</td>\n    </tr>\n    <tr>\n      <th>2</th>\n      <td>third</td>\n      <td>30</td>\n      <td>hello</td>\n      <td>0.16</td>\n    </tr>\n  </tbody>\n</table>\n</div>"
     },
     "metadata": {},
     "execution_count": 62
    }
   ],
   "source": [
    "pd.read_csv(\"example.csv\")"
   ]
  },
  {
   "cell_type": "markdown",
   "metadata": {
    "Collapsed": "false"
   },
   "source": [
    "Notice that the process of saving and loading the same file does not necessarily result in the identical data frame. In this example, the index of original data frame has become a column. In this very example we need to specify column that will be used as index. This, however, is not a universal solution, you might encounter many problems."
   ]
  },
  {
   "cell_type": "code",
   "execution_count": 63,
   "metadata": {},
   "outputs": [
    {
     "output_type": "execute_result",
     "data": {
      "text/plain": "        number greeting  ratio\nfirst       10      hey   0.30\nsecond      20       hi   0.10\nthird       30    hello   0.16",
      "text/html": "<div>\n<style scoped>\n    .dataframe tbody tr th:only-of-type {\n        vertical-align: middle;\n    }\n\n    .dataframe tbody tr th {\n        vertical-align: top;\n    }\n\n    .dataframe thead th {\n        text-align: right;\n    }\n</style>\n<table border=\"1\" class=\"dataframe\">\n  <thead>\n    <tr style=\"text-align: right;\">\n      <th></th>\n      <th>number</th>\n      <th>greeting</th>\n      <th>ratio</th>\n    </tr>\n  </thead>\n  <tbody>\n    <tr>\n      <th>first</th>\n      <td>10</td>\n      <td>hey</td>\n      <td>0.30</td>\n    </tr>\n    <tr>\n      <th>second</th>\n      <td>20</td>\n      <td>hi</td>\n      <td>0.10</td>\n    </tr>\n    <tr>\n      <th>third</th>\n      <td>30</td>\n      <td>hello</td>\n      <td>0.16</td>\n    </tr>\n  </tbody>\n</table>\n</div>"
     },
     "metadata": {},
     "execution_count": 63
    }
   ],
   "source": [
    "pd.read_csv(\"example.csv\", index_col=0)"
   ]
  },
  {
   "cell_type": "markdown",
   "metadata": {
    "Collapsed": "false"
   },
   "source": [
    "You can even specify an URL of file you would like to read."
   ]
  },
  {
   "cell_type": "code",
   "execution_count": 64,
   "metadata": {},
   "outputs": [
    {
     "output_type": "execute_result",
     "data": {
      "text/plain": "     outlook  temperature  humidity  windy play\n0      sunny           85        85  False   no\n1      sunny           80        90   True   no\n2   overcast           83        86  False  yes\n3      rainy           70        96  False  yes\n4      rainy           68        80  False  yes\n5      rainy           65        70   True   no\n6   overcast           64        65   True  yes\n7      sunny           72        95  False   no\n8      sunny           69        70  False  yes\n9      rainy           75        80  False  yes\n10     sunny           75        70   True  yes\n11  overcast           72        90   True  yes\n12  overcast           81        75  False  yes\n13     rainy           71        91   True   no",
      "text/html": "<div>\n<style scoped>\n    .dataframe tbody tr th:only-of-type {\n        vertical-align: middle;\n    }\n\n    .dataframe tbody tr th {\n        vertical-align: top;\n    }\n\n    .dataframe thead th {\n        text-align: right;\n    }\n</style>\n<table border=\"1\" class=\"dataframe\">\n  <thead>\n    <tr style=\"text-align: right;\">\n      <th></th>\n      <th>outlook</th>\n      <th>temperature</th>\n      <th>humidity</th>\n      <th>windy</th>\n      <th>play</th>\n    </tr>\n  </thead>\n  <tbody>\n    <tr>\n      <th>0</th>\n      <td>sunny</td>\n      <td>85</td>\n      <td>85</td>\n      <td>False</td>\n      <td>no</td>\n    </tr>\n    <tr>\n      <th>1</th>\n      <td>sunny</td>\n      <td>80</td>\n      <td>90</td>\n      <td>True</td>\n      <td>no</td>\n    </tr>\n    <tr>\n      <th>2</th>\n      <td>overcast</td>\n      <td>83</td>\n      <td>86</td>\n      <td>False</td>\n      <td>yes</td>\n    </tr>\n    <tr>\n      <th>3</th>\n      <td>rainy</td>\n      <td>70</td>\n      <td>96</td>\n      <td>False</td>\n      <td>yes</td>\n    </tr>\n    <tr>\n      <th>4</th>\n      <td>rainy</td>\n      <td>68</td>\n      <td>80</td>\n      <td>False</td>\n      <td>yes</td>\n    </tr>\n    <tr>\n      <th>5</th>\n      <td>rainy</td>\n      <td>65</td>\n      <td>70</td>\n      <td>True</td>\n      <td>no</td>\n    </tr>\n    <tr>\n      <th>6</th>\n      <td>overcast</td>\n      <td>64</td>\n      <td>65</td>\n      <td>True</td>\n      <td>yes</td>\n    </tr>\n    <tr>\n      <th>7</th>\n      <td>sunny</td>\n      <td>72</td>\n      <td>95</td>\n      <td>False</td>\n      <td>no</td>\n    </tr>\n    <tr>\n      <th>8</th>\n      <td>sunny</td>\n      <td>69</td>\n      <td>70</td>\n      <td>False</td>\n      <td>yes</td>\n    </tr>\n    <tr>\n      <th>9</th>\n      <td>rainy</td>\n      <td>75</td>\n      <td>80</td>\n      <td>False</td>\n      <td>yes</td>\n    </tr>\n    <tr>\n      <th>10</th>\n      <td>sunny</td>\n      <td>75</td>\n      <td>70</td>\n      <td>True</td>\n      <td>yes</td>\n    </tr>\n    <tr>\n      <th>11</th>\n      <td>overcast</td>\n      <td>72</td>\n      <td>90</td>\n      <td>True</td>\n      <td>yes</td>\n    </tr>\n    <tr>\n      <th>12</th>\n      <td>overcast</td>\n      <td>81</td>\n      <td>75</td>\n      <td>False</td>\n      <td>yes</td>\n    </tr>\n    <tr>\n      <th>13</th>\n      <td>rainy</td>\n      <td>71</td>\n      <td>91</td>\n      <td>True</td>\n      <td>no</td>\n    </tr>\n  </tbody>\n</table>\n</div>"
     },
     "metadata": {},
     "execution_count": 64
    }
   ],
   "source": [
    "weather = pd.read_csv(\"https://www.fi.muni.cz/~xcechak1/IB031/datasets/weather.csv\")\n",
    "weather"
   ]
  },
  {
   "cell_type": "markdown",
   "metadata": {
    "Collapsed": "false"
   },
   "source": [
    "<div class=\"alert alert-block alert-warning\"><b>Exercise 6</b></div>"
   ]
  },
  {
   "cell_type": "markdown",
   "metadata": {
    "Collapsed": "false"
   },
   "source": [
    "Let's do some \"data science\"! Compute a mean temperature of days when golf was played. The expected result is 73.0."
   ]
  },
  {
   "cell_type": "code",
   "execution_count": 69,
   "metadata": {},
   "outputs": [
    {
     "output_type": "execute_result",
     "data": {
      "text/plain": "73.0"
     },
     "metadata": {},
     "execution_count": 69
    }
   ],
   "source": [
    "# TODO: your code goes here...\n",
    "weather[weather.play == 'yes'].temperature.mean()"
   ]
  },
  {
   "cell_type": "markdown",
   "metadata": {
    "Collapsed": "false"
   },
   "source": [
    "<div class=\"alert alert-block alert-warning\"><b>Exercise 7</b></div>"
   ]
  },
  {
   "cell_type": "markdown",
   "metadata": {
    "Collapsed": "false"
   },
   "source": [
    "Compute the most common weather outlook when golf was not played. The expected result is sunny."
   ]
  },
  {
   "cell_type": "code",
   "execution_count": 71,
   "metadata": {},
   "outputs": [
    {
     "output_type": "execute_result",
     "data": {
      "text/plain": "0    sunny\ndtype: object"
     },
     "metadata": {},
     "execution_count": 71
    }
   ],
   "source": [
    "# TODO: your code goes here...\n",
    "weather[weather.play == 'no'].outlook.mode()"
   ]
  },
  {
   "cell_type": "markdown",
   "metadata": {
    "Collapsed": "false"
   },
   "source": [
    "It is really easy to modify and calculate with whole columns. You can also save the result as new column. Notice that you can access columns either like values in dictionaries but also as attributes."
   ]
  },
  {
   "cell_type": "code",
   "execution_count": 72,
   "metadata": {},
   "outputs": [
    {
     "output_type": "execute_result",
     "data": {
      "text/plain": "0     170\n1     170\n2     169\n3     166\n4     148\n5     135\n6     129\n7     167\n8     139\n9     155\n10    145\n11    162\n12    156\n13    162\ndtype: int64"
     },
     "metadata": {},
     "execution_count": 72
    }
   ],
   "source": [
    "weather['humidity'] + weather.temperature"
   ]
  },
  {
   "cell_type": "code",
   "execution_count": 73,
   "metadata": {},
   "outputs": [
    {
     "output_type": "execute_result",
     "data": {
      "text/plain": "     outlook  temperature  humidity  windy play  over_70\n0      sunny           85        85  False   no     True\n1      sunny           80        90   True   no     True\n2   overcast           83        86  False  yes     True\n3      rainy           70        96  False  yes    False\n4      rainy           68        80  False  yes    False\n5      rainy           65        70   True   no    False\n6   overcast           64        65   True  yes    False\n7      sunny           72        95  False   no     True\n8      sunny           69        70  False  yes    False\n9      rainy           75        80  False  yes     True\n10     sunny           75        70   True  yes     True\n11  overcast           72        90   True  yes     True\n12  overcast           81        75  False  yes     True\n13     rainy           71        91   True   no     True",
      "text/html": "<div>\n<style scoped>\n    .dataframe tbody tr th:only-of-type {\n        vertical-align: middle;\n    }\n\n    .dataframe tbody tr th {\n        vertical-align: top;\n    }\n\n    .dataframe thead th {\n        text-align: right;\n    }\n</style>\n<table border=\"1\" class=\"dataframe\">\n  <thead>\n    <tr style=\"text-align: right;\">\n      <th></th>\n      <th>outlook</th>\n      <th>temperature</th>\n      <th>humidity</th>\n      <th>windy</th>\n      <th>play</th>\n      <th>over_70</th>\n    </tr>\n  </thead>\n  <tbody>\n    <tr>\n      <th>0</th>\n      <td>sunny</td>\n      <td>85</td>\n      <td>85</td>\n      <td>False</td>\n      <td>no</td>\n      <td>True</td>\n    </tr>\n    <tr>\n      <th>1</th>\n      <td>sunny</td>\n      <td>80</td>\n      <td>90</td>\n      <td>True</td>\n      <td>no</td>\n      <td>True</td>\n    </tr>\n    <tr>\n      <th>2</th>\n      <td>overcast</td>\n      <td>83</td>\n      <td>86</td>\n      <td>False</td>\n      <td>yes</td>\n      <td>True</td>\n    </tr>\n    <tr>\n      <th>3</th>\n      <td>rainy</td>\n      <td>70</td>\n      <td>96</td>\n      <td>False</td>\n      <td>yes</td>\n      <td>False</td>\n    </tr>\n    <tr>\n      <th>4</th>\n      <td>rainy</td>\n      <td>68</td>\n      <td>80</td>\n      <td>False</td>\n      <td>yes</td>\n      <td>False</td>\n    </tr>\n    <tr>\n      <th>5</th>\n      <td>rainy</td>\n      <td>65</td>\n      <td>70</td>\n      <td>True</td>\n      <td>no</td>\n      <td>False</td>\n    </tr>\n    <tr>\n      <th>6</th>\n      <td>overcast</td>\n      <td>64</td>\n      <td>65</td>\n      <td>True</td>\n      <td>yes</td>\n      <td>False</td>\n    </tr>\n    <tr>\n      <th>7</th>\n      <td>sunny</td>\n      <td>72</td>\n      <td>95</td>\n      <td>False</td>\n      <td>no</td>\n      <td>True</td>\n    </tr>\n    <tr>\n      <th>8</th>\n      <td>sunny</td>\n      <td>69</td>\n      <td>70</td>\n      <td>False</td>\n      <td>yes</td>\n      <td>False</td>\n    </tr>\n    <tr>\n      <th>9</th>\n      <td>rainy</td>\n      <td>75</td>\n      <td>80</td>\n      <td>False</td>\n      <td>yes</td>\n      <td>True</td>\n    </tr>\n    <tr>\n      <th>10</th>\n      <td>sunny</td>\n      <td>75</td>\n      <td>70</td>\n      <td>True</td>\n      <td>yes</td>\n      <td>True</td>\n    </tr>\n    <tr>\n      <th>11</th>\n      <td>overcast</td>\n      <td>72</td>\n      <td>90</td>\n      <td>True</td>\n      <td>yes</td>\n      <td>True</td>\n    </tr>\n    <tr>\n      <th>12</th>\n      <td>overcast</td>\n      <td>81</td>\n      <td>75</td>\n      <td>False</td>\n      <td>yes</td>\n      <td>True</td>\n    </tr>\n    <tr>\n      <th>13</th>\n      <td>rainy</td>\n      <td>71</td>\n      <td>91</td>\n      <td>True</td>\n      <td>no</td>\n      <td>True</td>\n    </tr>\n  </tbody>\n</table>\n</div>"
     },
     "metadata": {},
     "execution_count": 73
    }
   ],
   "source": [
    "weather['over_70'] = weather.temperature > 70\n",
    "weather"
   ]
  },
  {
   "cell_type": "markdown",
   "metadata": {
    "Collapsed": "false"
   },
   "source": [
    "<div class=\"alert alert-block alert-warning\"><b>Exercise 8</b></div>"
   ]
  },
  {
   "cell_type": "markdown",
   "metadata": {
    "Collapsed": "false"
   },
   "source": [
    "Compute the correlation between columns `windy` and `play`. The expected result is -0.258199."
   ]
  },
  {
   "cell_type": "code",
   "execution_count": 79,
   "metadata": {},
   "outputs": [
    {
     "output_type": "execute_result",
     "data": {
      "text/plain": "              windy  play_bool\nwindy      1.000000  -0.258199\nplay_bool -0.258199   1.000000",
      "text/html": "<div>\n<style scoped>\n    .dataframe tbody tr th:only-of-type {\n        vertical-align: middle;\n    }\n\n    .dataframe tbody tr th {\n        vertical-align: top;\n    }\n\n    .dataframe thead th {\n        text-align: right;\n    }\n</style>\n<table border=\"1\" class=\"dataframe\">\n  <thead>\n    <tr style=\"text-align: right;\">\n      <th></th>\n      <th>windy</th>\n      <th>play_bool</th>\n    </tr>\n  </thead>\n  <tbody>\n    <tr>\n      <th>windy</th>\n      <td>1.000000</td>\n      <td>-0.258199</td>\n    </tr>\n    <tr>\n      <th>play_bool</th>\n      <td>-0.258199</td>\n      <td>1.000000</td>\n    </tr>\n  </tbody>\n</table>\n</div>"
     },
     "metadata": {},
     "execution_count": 79
    }
   ],
   "source": [
    "# TODO: your code goes here...\n",
    "weather['play_bool'] = weather.play == 'yes'\n",
    "weather[['windy', 'play_bool']].corr()"
   ]
  },
  {
   "cell_type": "markdown",
   "metadata": {
    "Collapsed": "false"
   },
   "source": [
    "Until now, we just took the data as is and computed something on on it or its subset. Sometimes this is not enough and we need to rearrange the data a bit. There are three common operations: grouping, pivoting, and melting. Grouping is useful if you want to aggregate information base on value in a specified column(s). Pivot and melt operations reshapes the data frame. You might need these operations to reshape the data frame for easier plotting."
   ]
  },
  {
   "cell_type": "code",
   "execution_count": 80,
   "metadata": {},
   "outputs": [
    {
     "output_type": "execute_result",
     "data": {
      "text/plain": "          humidity\noutlook           \novercast      79.0\nrainy         83.4\nsunny         82.0",
      "text/html": "<div>\n<style scoped>\n    .dataframe tbody tr th:only-of-type {\n        vertical-align: middle;\n    }\n\n    .dataframe tbody tr th {\n        vertical-align: top;\n    }\n\n    .dataframe thead th {\n        text-align: right;\n    }\n</style>\n<table border=\"1\" class=\"dataframe\">\n  <thead>\n    <tr style=\"text-align: right;\">\n      <th></th>\n      <th>humidity</th>\n    </tr>\n    <tr>\n      <th>outlook</th>\n      <th></th>\n    </tr>\n  </thead>\n  <tbody>\n    <tr>\n      <th>overcast</th>\n      <td>79.0</td>\n    </tr>\n    <tr>\n      <th>rainy</th>\n      <td>83.4</td>\n    </tr>\n    <tr>\n      <th>sunny</th>\n      <td>82.0</td>\n    </tr>\n  </tbody>\n</table>\n</div>"
     },
     "metadata": {},
     "execution_count": 80
    }
   ],
   "source": [
    "weather[['outlook', 'humidity']].groupby('outlook').mean()"
   ]
  },
  {
   "cell_type": "markdown",
   "metadata": {
    "Collapsed": "false"
   },
   "source": [
    "The function applied to the groups can be arbitrary, e.g., take the last row with the given value."
   ]
  },
  {
   "cell_type": "code",
   "execution_count": 81,
   "metadata": {},
   "outputs": [
    {
     "output_type": "execute_result",
     "data": {
      "text/plain": "           outlook  temperature  humidity  windy play  over_70  play_bool\noutlook                                                                  \novercast  overcast           81        75  False  yes     True       True\nrainy        rainy           71        91   True   no     True      False\nsunny        sunny           75        70   True  yes     True       True",
      "text/html": "<div>\n<style scoped>\n    .dataframe tbody tr th:only-of-type {\n        vertical-align: middle;\n    }\n\n    .dataframe tbody tr th {\n        vertical-align: top;\n    }\n\n    .dataframe thead th {\n        text-align: right;\n    }\n</style>\n<table border=\"1\" class=\"dataframe\">\n  <thead>\n    <tr style=\"text-align: right;\">\n      <th></th>\n      <th>outlook</th>\n      <th>temperature</th>\n      <th>humidity</th>\n      <th>windy</th>\n      <th>play</th>\n      <th>over_70</th>\n      <th>play_bool</th>\n    </tr>\n    <tr>\n      <th>outlook</th>\n      <th></th>\n      <th></th>\n      <th></th>\n      <th></th>\n      <th></th>\n      <th></th>\n      <th></th>\n    </tr>\n  </thead>\n  <tbody>\n    <tr>\n      <th>overcast</th>\n      <td>overcast</td>\n      <td>81</td>\n      <td>75</td>\n      <td>False</td>\n      <td>yes</td>\n      <td>True</td>\n      <td>True</td>\n    </tr>\n    <tr>\n      <th>rainy</th>\n      <td>rainy</td>\n      <td>71</td>\n      <td>91</td>\n      <td>True</td>\n      <td>no</td>\n      <td>True</td>\n      <td>False</td>\n    </tr>\n    <tr>\n      <th>sunny</th>\n      <td>sunny</td>\n      <td>75</td>\n      <td>70</td>\n      <td>True</td>\n      <td>yes</td>\n      <td>True</td>\n      <td>True</td>\n    </tr>\n  </tbody>\n</table>\n</div>"
     },
     "metadata": {},
     "execution_count": 81
    }
   ],
   "source": [
    "weather.groupby('outlook').apply(lambda group: group.iloc[-1])"
   ]
  },
  {
   "cell_type": "code",
   "execution_count": 82,
   "metadata": {},
   "outputs": [
    {
     "output_type": "execute_result",
     "data": {
      "text/plain": "   play variable     value\n0    no    windy     False\n1    no    windy      True\n2   yes    windy     False\n3   yes    windy     False\n4   yes    windy     False\n5    no    windy      True\n6   yes    windy      True\n7    no    windy     False\n8   yes    windy     False\n9   yes    windy     False\n10  yes    windy      True\n11  yes    windy      True\n12  yes    windy     False\n13   no    windy      True\n14   no  outlook     sunny\n15   no  outlook     sunny\n16  yes  outlook  overcast\n17  yes  outlook     rainy\n18  yes  outlook     rainy\n19   no  outlook     rainy\n20  yes  outlook  overcast\n21   no  outlook     sunny\n22  yes  outlook     sunny\n23  yes  outlook     rainy\n24  yes  outlook     sunny\n25  yes  outlook  overcast\n26  yes  outlook  overcast\n27   no  outlook     rainy",
      "text/html": "<div>\n<style scoped>\n    .dataframe tbody tr th:only-of-type {\n        vertical-align: middle;\n    }\n\n    .dataframe tbody tr th {\n        vertical-align: top;\n    }\n\n    .dataframe thead th {\n        text-align: right;\n    }\n</style>\n<table border=\"1\" class=\"dataframe\">\n  <thead>\n    <tr style=\"text-align: right;\">\n      <th></th>\n      <th>play</th>\n      <th>variable</th>\n      <th>value</th>\n    </tr>\n  </thead>\n  <tbody>\n    <tr>\n      <th>0</th>\n      <td>no</td>\n      <td>windy</td>\n      <td>False</td>\n    </tr>\n    <tr>\n      <th>1</th>\n      <td>no</td>\n      <td>windy</td>\n      <td>True</td>\n    </tr>\n    <tr>\n      <th>2</th>\n      <td>yes</td>\n      <td>windy</td>\n      <td>False</td>\n    </tr>\n    <tr>\n      <th>3</th>\n      <td>yes</td>\n      <td>windy</td>\n      <td>False</td>\n    </tr>\n    <tr>\n      <th>4</th>\n      <td>yes</td>\n      <td>windy</td>\n      <td>False</td>\n    </tr>\n    <tr>\n      <th>5</th>\n      <td>no</td>\n      <td>windy</td>\n      <td>True</td>\n    </tr>\n    <tr>\n      <th>6</th>\n      <td>yes</td>\n      <td>windy</td>\n      <td>True</td>\n    </tr>\n    <tr>\n      <th>7</th>\n      <td>no</td>\n      <td>windy</td>\n      <td>False</td>\n    </tr>\n    <tr>\n      <th>8</th>\n      <td>yes</td>\n      <td>windy</td>\n      <td>False</td>\n    </tr>\n    <tr>\n      <th>9</th>\n      <td>yes</td>\n      <td>windy</td>\n      <td>False</td>\n    </tr>\n    <tr>\n      <th>10</th>\n      <td>yes</td>\n      <td>windy</td>\n      <td>True</td>\n    </tr>\n    <tr>\n      <th>11</th>\n      <td>yes</td>\n      <td>windy</td>\n      <td>True</td>\n    </tr>\n    <tr>\n      <th>12</th>\n      <td>yes</td>\n      <td>windy</td>\n      <td>False</td>\n    </tr>\n    <tr>\n      <th>13</th>\n      <td>no</td>\n      <td>windy</td>\n      <td>True</td>\n    </tr>\n    <tr>\n      <th>14</th>\n      <td>no</td>\n      <td>outlook</td>\n      <td>sunny</td>\n    </tr>\n    <tr>\n      <th>15</th>\n      <td>no</td>\n      <td>outlook</td>\n      <td>sunny</td>\n    </tr>\n    <tr>\n      <th>16</th>\n      <td>yes</td>\n      <td>outlook</td>\n      <td>overcast</td>\n    </tr>\n    <tr>\n      <th>17</th>\n      <td>yes</td>\n      <td>outlook</td>\n      <td>rainy</td>\n    </tr>\n    <tr>\n      <th>18</th>\n      <td>yes</td>\n      <td>outlook</td>\n      <td>rainy</td>\n    </tr>\n    <tr>\n      <th>19</th>\n      <td>no</td>\n      <td>outlook</td>\n      <td>rainy</td>\n    </tr>\n    <tr>\n      <th>20</th>\n      <td>yes</td>\n      <td>outlook</td>\n      <td>overcast</td>\n    </tr>\n    <tr>\n      <th>21</th>\n      <td>no</td>\n      <td>outlook</td>\n      <td>sunny</td>\n    </tr>\n    <tr>\n      <th>22</th>\n      <td>yes</td>\n      <td>outlook</td>\n      <td>sunny</td>\n    </tr>\n    <tr>\n      <th>23</th>\n      <td>yes</td>\n      <td>outlook</td>\n      <td>rainy</td>\n    </tr>\n    <tr>\n      <th>24</th>\n      <td>yes</td>\n      <td>outlook</td>\n      <td>sunny</td>\n    </tr>\n    <tr>\n      <th>25</th>\n      <td>yes</td>\n      <td>outlook</td>\n      <td>overcast</td>\n    </tr>\n    <tr>\n      <th>26</th>\n      <td>yes</td>\n      <td>outlook</td>\n      <td>overcast</td>\n    </tr>\n    <tr>\n      <th>27</th>\n      <td>no</td>\n      <td>outlook</td>\n      <td>rainy</td>\n    </tr>\n  </tbody>\n</table>\n</div>"
     },
     "metadata": {},
     "execution_count": 82
    }
   ],
   "source": [
    "melted_df = weather.melt(id_vars='play', value_vars=['windy', 'outlook'])\n",
    "melted_df"
   ]
  },
  {
   "cell_type": "code",
   "execution_count": 83,
   "metadata": {},
   "outputs": [
    {
     "output_type": "execute_result",
     "data": {
      "text/plain": "            play                    \ntemperature   68   70   80   83   85\nwindy                               \nFalse        yes  yes  NaN  yes   no\nTrue         NaN  NaN   no  NaN  NaN",
      "text/html": "<div>\n<style scoped>\n    .dataframe tbody tr th:only-of-type {\n        vertical-align: middle;\n    }\n\n    .dataframe tbody tr th {\n        vertical-align: top;\n    }\n\n    .dataframe thead tr th {\n        text-align: left;\n    }\n\n    .dataframe thead tr:last-of-type th {\n        text-align: right;\n    }\n</style>\n<table border=\"1\" class=\"dataframe\">\n  <thead>\n    <tr>\n      <th></th>\n      <th colspan=\"5\" halign=\"left\">play</th>\n    </tr>\n    <tr>\n      <th>temperature</th>\n      <th>68</th>\n      <th>70</th>\n      <th>80</th>\n      <th>83</th>\n      <th>85</th>\n    </tr>\n    <tr>\n      <th>windy</th>\n      <th></th>\n      <th></th>\n      <th></th>\n      <th></th>\n      <th></th>\n    </tr>\n  </thead>\n  <tbody>\n    <tr>\n      <th>False</th>\n      <td>yes</td>\n      <td>yes</td>\n      <td>NaN</td>\n      <td>yes</td>\n      <td>no</td>\n    </tr>\n    <tr>\n      <th>True</th>\n      <td>NaN</td>\n      <td>NaN</td>\n      <td>no</td>\n      <td>NaN</td>\n      <td>NaN</td>\n    </tr>\n  </tbody>\n</table>\n</div>"
     },
     "metadata": {},
     "execution_count": 83
    }
   ],
   "source": [
    "weather[:5].pivot(index='windy', columns='temperature', values=['play'])"
   ]
  },
  {
   "cell_type": "markdown",
   "metadata": {
    "Collapsed": "false"
   },
   "source": [
    "<div class=\"alert alert-block alert-danger\"><b>Exercise 9</b></div>"
   ]
  },
  {
   "cell_type": "markdown",
   "metadata": {
    "Collapsed": "false"
   },
   "source": [
    "Download and load dataset `attempts.csv` from https://github.com/adaptive-learning/adaptive-learning-research/tree/master/data/robomission-2019-12. Read the instructions on the page and briefly read through data description.\n",
    "\n",
    "1. Find id of the student with the most solved problems. Expected result is 16364.\n",
    "2. Compute average success rate of problems. Expected results starts with 0.870189, 0.973117, 0.866077, 0.362319, 0.658576.\n",
    "3. Add 2 minutes to all time stamps in column `start`.\n",
    "4. Create a table with row for each student and column for each item. The value on row $i$ and column $j$ says whether student $j$ have ever solved problem $j$."
   ]
  },
  {
   "cell_type": "code",
   "execution_count": 112,
   "metadata": {},
   "outputs": [
    {
     "output_type": "execute_result",
     "data": {
      "text/plain": "        solved                                                    ...       \\\nitem        1     2     3    4    5     6    7     8    9     10  ...   77   \nstudent                                                           ...        \n5          NaN   NaN   NaN  NaN  NaN   NaN  NaN   NaN  NaN   NaN  ...  NaN   \n29        True  True  True  NaN  NaN   NaN  NaN  True  NaN  True  ...  NaN   \n584        NaN  True  True  NaN  NaN  True  NaN  True  NaN   NaN  ...  NaN   \n769        NaN   NaN   NaN  NaN  NaN   NaN  NaN   NaN  NaN   NaN  ...  NaN   \n909        NaN   NaN   NaN  NaN  NaN   NaN  NaN   NaN  NaN   NaN  ...  NaN   \n...        ...   ...   ...  ...  ...   ...  ...   ...  ...   ...  ...  ...   \n18487      NaN  True  True  NaN  NaN   NaN  NaN  True  NaN  True  ...  NaN   \n18488      NaN   NaN   NaN  NaN  NaN   NaN  NaN   NaN  NaN   NaN  ...  NaN   \n18489      NaN   NaN   NaN  NaN  NaN   NaN  NaN   NaN  NaN   NaN  ...  NaN   \n18491     True   NaN  True  NaN  NaN   NaN  NaN  True  NaN  True  ...  NaN   \n18494      NaN  True   NaN  NaN  NaN   NaN  NaN  True  NaN   NaN  ...  NaN   \n\n                                                         \nitem      78    79   80   81   82   83    84   85    86  \nstudent                                                  \n5        NaN   NaN  NaN  NaN  NaN  NaN   NaN  NaN   NaN  \n29       NaN   NaN  NaN  NaN  NaN  NaN   NaN  NaN   NaN  \n584      NaN   NaN  NaN  NaN  NaN  NaN   NaN  NaN   NaN  \n769      NaN   NaN  NaN  NaN  NaN  NaN   NaN  NaN   NaN  \n909      NaN   NaN  NaN  NaN  NaN  NaN   NaN  NaN   NaN  \n...      ...   ...  ...  ...  ...  ...   ...  ...   ...  \n18487    NaN  True  NaN  NaN  NaN  NaN  True  NaN  True  \n18488    NaN   NaN  NaN  NaN  NaN  NaN   NaN  NaN   NaN  \n18489    NaN   NaN  NaN  NaN  NaN  NaN   NaN  NaN   NaN  \n18491    NaN   NaN  NaN  NaN  NaN  NaN  True  NaN  True  \n18494    NaN   NaN  NaN  NaN  NaN  NaN   NaN  NaN   NaN  \n\n[8527 rows x 85 columns]",
      "text/html": "<div>\n<style scoped>\n    .dataframe tbody tr th:only-of-type {\n        vertical-align: middle;\n    }\n\n    .dataframe tbody tr th {\n        vertical-align: top;\n    }\n\n    .dataframe thead tr th {\n        text-align: left;\n    }\n\n    .dataframe thead tr:last-of-type th {\n        text-align: right;\n    }\n</style>\n<table border=\"1\" class=\"dataframe\">\n  <thead>\n    <tr>\n      <th></th>\n      <th colspan=\"21\" halign=\"left\">solved</th>\n    </tr>\n    <tr>\n      <th>item</th>\n      <th>1</th>\n      <th>2</th>\n      <th>3</th>\n      <th>4</th>\n      <th>5</th>\n      <th>6</th>\n      <th>7</th>\n      <th>8</th>\n      <th>9</th>\n      <th>10</th>\n      <th>...</th>\n      <th>77</th>\n      <th>78</th>\n      <th>79</th>\n      <th>80</th>\n      <th>81</th>\n      <th>82</th>\n      <th>83</th>\n      <th>84</th>\n      <th>85</th>\n      <th>86</th>\n    </tr>\n    <tr>\n      <th>student</th>\n      <th></th>\n      <th></th>\n      <th></th>\n      <th></th>\n      <th></th>\n      <th></th>\n      <th></th>\n      <th></th>\n      <th></th>\n      <th></th>\n      <th></th>\n      <th></th>\n      <th></th>\n      <th></th>\n      <th></th>\n      <th></th>\n      <th></th>\n      <th></th>\n      <th></th>\n      <th></th>\n      <th></th>\n    </tr>\n  </thead>\n  <tbody>\n    <tr>\n      <th>5</th>\n      <td>NaN</td>\n      <td>NaN</td>\n      <td>NaN</td>\n      <td>NaN</td>\n      <td>NaN</td>\n      <td>NaN</td>\n      <td>NaN</td>\n      <td>NaN</td>\n      <td>NaN</td>\n      <td>NaN</td>\n      <td>...</td>\n      <td>NaN</td>\n      <td>NaN</td>\n      <td>NaN</td>\n      <td>NaN</td>\n      <td>NaN</td>\n      <td>NaN</td>\n      <td>NaN</td>\n      <td>NaN</td>\n      <td>NaN</td>\n      <td>NaN</td>\n    </tr>\n    <tr>\n      <th>29</th>\n      <td>True</td>\n      <td>True</td>\n      <td>True</td>\n      <td>NaN</td>\n      <td>NaN</td>\n      <td>NaN</td>\n      <td>NaN</td>\n      <td>True</td>\n      <td>NaN</td>\n      <td>True</td>\n      <td>...</td>\n      <td>NaN</td>\n      <td>NaN</td>\n      <td>NaN</td>\n      <td>NaN</td>\n      <td>NaN</td>\n      <td>NaN</td>\n      <td>NaN</td>\n      <td>NaN</td>\n      <td>NaN</td>\n      <td>NaN</td>\n    </tr>\n    <tr>\n      <th>584</th>\n      <td>NaN</td>\n      <td>True</td>\n      <td>True</td>\n      <td>NaN</td>\n      <td>NaN</td>\n      <td>True</td>\n      <td>NaN</td>\n      <td>True</td>\n      <td>NaN</td>\n      <td>NaN</td>\n      <td>...</td>\n      <td>NaN</td>\n      <td>NaN</td>\n      <td>NaN</td>\n      <td>NaN</td>\n      <td>NaN</td>\n      <td>NaN</td>\n      <td>NaN</td>\n      <td>NaN</td>\n      <td>NaN</td>\n      <td>NaN</td>\n    </tr>\n    <tr>\n      <th>769</th>\n      <td>NaN</td>\n      <td>NaN</td>\n      <td>NaN</td>\n      <td>NaN</td>\n      <td>NaN</td>\n      <td>NaN</td>\n      <td>NaN</td>\n      <td>NaN</td>\n      <td>NaN</td>\n      <td>NaN</td>\n      <td>...</td>\n      <td>NaN</td>\n      <td>NaN</td>\n      <td>NaN</td>\n      <td>NaN</td>\n      <td>NaN</td>\n      <td>NaN</td>\n      <td>NaN</td>\n      <td>NaN</td>\n      <td>NaN</td>\n      <td>NaN</td>\n    </tr>\n    <tr>\n      <th>909</th>\n      <td>NaN</td>\n      <td>NaN</td>\n      <td>NaN</td>\n      <td>NaN</td>\n      <td>NaN</td>\n      <td>NaN</td>\n      <td>NaN</td>\n      <td>NaN</td>\n      <td>NaN</td>\n      <td>NaN</td>\n      <td>...</td>\n      <td>NaN</td>\n      <td>NaN</td>\n      <td>NaN</td>\n      <td>NaN</td>\n      <td>NaN</td>\n      <td>NaN</td>\n      <td>NaN</td>\n      <td>NaN</td>\n      <td>NaN</td>\n      <td>NaN</td>\n    </tr>\n    <tr>\n      <th>...</th>\n      <td>...</td>\n      <td>...</td>\n      <td>...</td>\n      <td>...</td>\n      <td>...</td>\n      <td>...</td>\n      <td>...</td>\n      <td>...</td>\n      <td>...</td>\n      <td>...</td>\n      <td>...</td>\n      <td>...</td>\n      <td>...</td>\n      <td>...</td>\n      <td>...</td>\n      <td>...</td>\n      <td>...</td>\n      <td>...</td>\n      <td>...</td>\n      <td>...</td>\n      <td>...</td>\n    </tr>\n    <tr>\n      <th>18487</th>\n      <td>NaN</td>\n      <td>True</td>\n      <td>True</td>\n      <td>NaN</td>\n      <td>NaN</td>\n      <td>NaN</td>\n      <td>NaN</td>\n      <td>True</td>\n      <td>NaN</td>\n      <td>True</td>\n      <td>...</td>\n      <td>NaN</td>\n      <td>NaN</td>\n      <td>True</td>\n      <td>NaN</td>\n      <td>NaN</td>\n      <td>NaN</td>\n      <td>NaN</td>\n      <td>True</td>\n      <td>NaN</td>\n      <td>True</td>\n    </tr>\n    <tr>\n      <th>18488</th>\n      <td>NaN</td>\n      <td>NaN</td>\n      <td>NaN</td>\n      <td>NaN</td>\n      <td>NaN</td>\n      <td>NaN</td>\n      <td>NaN</td>\n      <td>NaN</td>\n      <td>NaN</td>\n      <td>NaN</td>\n      <td>...</td>\n      <td>NaN</td>\n      <td>NaN</td>\n      <td>NaN</td>\n      <td>NaN</td>\n      <td>NaN</td>\n      <td>NaN</td>\n      <td>NaN</td>\n      <td>NaN</td>\n      <td>NaN</td>\n      <td>NaN</td>\n    </tr>\n    <tr>\n      <th>18489</th>\n      <td>NaN</td>\n      <td>NaN</td>\n      <td>NaN</td>\n      <td>NaN</td>\n      <td>NaN</td>\n      <td>NaN</td>\n      <td>NaN</td>\n      <td>NaN</td>\n      <td>NaN</td>\n      <td>NaN</td>\n      <td>...</td>\n      <td>NaN</td>\n      <td>NaN</td>\n      <td>NaN</td>\n      <td>NaN</td>\n      <td>NaN</td>\n      <td>NaN</td>\n      <td>NaN</td>\n      <td>NaN</td>\n      <td>NaN</td>\n      <td>NaN</td>\n    </tr>\n    <tr>\n      <th>18491</th>\n      <td>True</td>\n      <td>NaN</td>\n      <td>True</td>\n      <td>NaN</td>\n      <td>NaN</td>\n      <td>NaN</td>\n      <td>NaN</td>\n      <td>True</td>\n      <td>NaN</td>\n      <td>True</td>\n      <td>...</td>\n      <td>NaN</td>\n      <td>NaN</td>\n      <td>NaN</td>\n      <td>NaN</td>\n      <td>NaN</td>\n      <td>NaN</td>\n      <td>NaN</td>\n      <td>True</td>\n      <td>NaN</td>\n      <td>True</td>\n    </tr>\n    <tr>\n      <th>18494</th>\n      <td>NaN</td>\n      <td>True</td>\n      <td>NaN</td>\n      <td>NaN</td>\n      <td>NaN</td>\n      <td>NaN</td>\n      <td>NaN</td>\n      <td>True</td>\n      <td>NaN</td>\n      <td>NaN</td>\n      <td>...</td>\n      <td>NaN</td>\n      <td>NaN</td>\n      <td>NaN</td>\n      <td>NaN</td>\n      <td>NaN</td>\n      <td>NaN</td>\n      <td>NaN</td>\n      <td>NaN</td>\n      <td>NaN</td>\n      <td>NaN</td>\n    </tr>\n  </tbody>\n</table>\n<p>8527 rows × 85 columns</p>\n</div>"
     },
     "metadata": {},
     "execution_count": 112
    }
   ],
   "source": [
    "# TODO: your code goes here'...\n",
    "attempts = pd.read_csv('attempts.csv')\n",
    "\n",
    "attempts.groupby('student').apply(lambda a : a.solved.sum()).idxmax()\n",
    "\n",
    "attempts.groupby('item').mean()['solved']\n",
    "\n",
    "attempts['start'] = pd.to_datetime(attempts['start']) + pd.Timedelta('2 minutes')\n",
    "\n",
    "has_solved = attempts.groupby(['student', 'item']).apply(lambda a : any(a.solved))\n",
    "has_solved.reset_index().rename(columns={0: 'solved'}).pivot(index='student', columns='item', values=['solved'])"
   ]
  }
 ],
 "metadata": {
  "jupytext": {
   "encoding": "# -*- coding: utf-8 -*-"
  },
  "kernelspec": {
   "display_name": "Python 3.7.6 64-bit",
   "language": "python",
   "name": "python37664bitc5604de6eed24f8f9c85663bd619da2a"
  }
 },
 "nbformat": 4,
 "nbformat_minor": 4
}