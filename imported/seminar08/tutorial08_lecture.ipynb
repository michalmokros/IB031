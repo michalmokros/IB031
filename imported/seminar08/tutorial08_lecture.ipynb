{
 "cells": [
  {
   "cell_type": "markdown",
   "metadata": {
    "Collapsed": "false"
   },
   "source": [
    "# Tutorial 08 – Baseline Model"
   ]
  },
  {
   "cell_type": "markdown",
   "metadata": {},
   "source": [
    "In this tutorial we will take a look at using baselines to assess whether the more complex model is worth the complexity and train a naïve bayes based spam filter."
   ]
  },
  {
   "cell_type": "code",
   "execution_count": 1,
   "metadata": {},
   "outputs": [],
   "source": [
    "import pandas as pd\n",
    "import matplotlib.pyplot as plt\n",
    "import numpy as np\n",
    "import seaborn as sns\n",
    "\n",
    "sns.set()  # make plots nicer"
   ]
  },
  {
   "cell_type": "markdown",
   "metadata": {},
   "source": [
    "## Baselines\n",
    "\n",
    "Baseline is a general term for any threshold that we aim to beat with our machine learning model. It is often 1) result obtained using simple label/target distribution statistic or 2) previously obtained results. Case 1) is common when you are tackling a new problem for the first time and you have no idea how any machine learning model will perform. Case 2) is common for improving on previous results, e.g., results published in literature. Note that in case 2) the baseline can be result of arbitrary complex model even state-of-the-art neural network. The baseline is not always easy to beat.\n",
    "\n",
    "Let's focus now on case 1) and use titanic dataset for demonstration."
   ]
  },
  {
   "cell_type": "code",
   "execution_count": 2,
   "metadata": {},
   "outputs": [
    {
     "output_type": "execute_result",
     "data": {
      "text/plain": "   survived  pclass     sex   age  sibsp  parch     fare  adult_male deck  \\\n0         0       3    male  22.0      1      0   7.2500        True  NaN   \n1         1       1  female  38.0      1      0  71.2833       False    C   \n2         1       3  female  26.0      0      0   7.9250       False  NaN   \n3         1       1  female  35.0      1      0  53.1000       False    C   \n4         0       3    male  35.0      0      0   8.0500        True  NaN   \n\n   embark_town  alone  \n0  Southampton  False  \n1    Cherbourg  False  \n2  Southampton   True  \n3  Southampton  False  \n4  Southampton   True  ",
      "text/html": "<div>\n<style scoped>\n    .dataframe tbody tr th:only-of-type {\n        vertical-align: middle;\n    }\n\n    .dataframe tbody tr th {\n        vertical-align: top;\n    }\n\n    .dataframe thead th {\n        text-align: right;\n    }\n</style>\n<table border=\"1\" class=\"dataframe\">\n  <thead>\n    <tr style=\"text-align: right;\">\n      <th></th>\n      <th>survived</th>\n      <th>pclass</th>\n      <th>sex</th>\n      <th>age</th>\n      <th>sibsp</th>\n      <th>parch</th>\n      <th>fare</th>\n      <th>adult_male</th>\n      <th>deck</th>\n      <th>embark_town</th>\n      <th>alone</th>\n    </tr>\n  </thead>\n  <tbody>\n    <tr>\n      <th>0</th>\n      <td>0</td>\n      <td>3</td>\n      <td>male</td>\n      <td>22.0</td>\n      <td>1</td>\n      <td>0</td>\n      <td>7.2500</td>\n      <td>True</td>\n      <td>NaN</td>\n      <td>Southampton</td>\n      <td>False</td>\n    </tr>\n    <tr>\n      <th>1</th>\n      <td>1</td>\n      <td>1</td>\n      <td>female</td>\n      <td>38.0</td>\n      <td>1</td>\n      <td>0</td>\n      <td>71.2833</td>\n      <td>False</td>\n      <td>C</td>\n      <td>Cherbourg</td>\n      <td>False</td>\n    </tr>\n    <tr>\n      <th>2</th>\n      <td>1</td>\n      <td>3</td>\n      <td>female</td>\n      <td>26.0</td>\n      <td>0</td>\n      <td>0</td>\n      <td>7.9250</td>\n      <td>False</td>\n      <td>NaN</td>\n      <td>Southampton</td>\n      <td>True</td>\n    </tr>\n    <tr>\n      <th>3</th>\n      <td>1</td>\n      <td>1</td>\n      <td>female</td>\n      <td>35.0</td>\n      <td>1</td>\n      <td>0</td>\n      <td>53.1000</td>\n      <td>False</td>\n      <td>C</td>\n      <td>Southampton</td>\n      <td>False</td>\n    </tr>\n    <tr>\n      <th>4</th>\n      <td>0</td>\n      <td>3</td>\n      <td>male</td>\n      <td>35.0</td>\n      <td>0</td>\n      <td>0</td>\n      <td>8.0500</td>\n      <td>True</td>\n      <td>NaN</td>\n      <td>Southampton</td>\n      <td>True</td>\n    </tr>\n  </tbody>\n</table>\n</div>"
     },
     "metadata": {},
     "execution_count": 2
    }
   ],
   "source": [
    "titanic = sns.load_dataset(\"titanic\")\n",
    "# drop redundant columns\n",
    "titanic = titanic.drop(columns=[\"embarked\", \"who\", \"class\", \"alive\"])\n",
    "titanic.head()"
   ]
  },
  {
   "cell_type": "markdown",
   "metadata": {},
   "source": [
    "Add a new category for missing categorical values so we can later fit more complex models."
   ]
  },
  {
   "cell_type": "code",
   "execution_count": 3,
   "metadata": {},
   "outputs": [],
   "source": [
    "titanic[\"deck\"] = titanic.deck.cat.add_categories(\"missing\")\n",
    "titanic[\"deck\"] = titanic.deck.fillna(\"missing\")\n",
    "titanic[\"embark_town\"] = titanic.embark_town.fillna(\"missing\")\n",
    "titanic[\"embark_town\"] = titanic.embark_town.astype(\"category\")"
   ]
  },
  {
   "cell_type": "markdown",
   "metadata": {},
   "source": [
    "Split the dataset into training and test subsets."
   ]
  },
  {
   "cell_type": "code",
   "execution_count": 4,
   "metadata": {},
   "outputs": [],
   "source": [
    "from sklearn.model_selection import train_test_split\n",
    "\n",
    "titanic_X, titanic_y = titanic.drop(columns=\"survived\"), titanic.survived\n",
    "\n",
    "titanic_train_X, titanic_test_X, titanic_train_y, titanic_test_y = train_test_split(\n",
    "    titanic_X, titanic_y, test_size=0.2, random_state=42\n",
    ")"
   ]
  },
  {
   "cell_type": "markdown",
   "metadata": {},
   "source": [
    "The most simple baseline is to simply toss a coin and predict labels completely at random. This might be sensible if the classes are balanced (classes have same roughly the same number of examples). In case of imbalanced classes it is better to adjust the probabilities so that generated class labels are proportional to the class labels in training set. If the classes are highly imbalanced this can be simplified to predicting the most frequent class label.\n",
    "\n",
    "`scikit-learn` has [Dummy estimators](https://scikit-learn.org/stable/modules/model_evaluation.html#dummy-estimators) that does exactly this.\n",
    "\n",
    "<div class=\"alert alert-block alert-warning\"><b>Exercise 1</b></div>\n",
    "\n",
    "Compute baseline **accuracy on test set** of simple (dummy) classifiers that predict labels **completely randomly**, **proportional to label distribution in training data**, and by simply **predicting most frequent** label.\n",
    "\n",
    "You should get the following accuracies (the exact number will differ due to randomness).\n",
    "* completely random: $0.50 ±0.08$\n",
    "* proportional: $0.52 ±0.07$\n",
    "* most frequent: $0.58$"
   ]
  },
  {
   "cell_type": "code",
   "execution_count": 14,
   "metadata": {},
   "outputs": [
    {
     "output_type": "stream",
     "name": "stdout",
     "text": "0.45\n0.51\n0.59\n"
    }
   ],
   "source": [
    "# TODO: your code goes here...\n",
    "from sklearn.dummy import DummyClassifier\n",
    "\n",
    "completely_random = DummyClassifier(strategy='uniform', random_state=42)\n",
    "completely_random.fit(titanic_train_X, titanic_train_y)\n",
    "print(round(completely_random.score(titanic_test_X, titanic_test_y), 2))\n",
    "\n",
    "proportional = DummyClassifier(strategy='stratified', random_state=42)\n",
    "proportional.fit(titanic_train_X, titanic_train_y)\n",
    "print(round(proportional.score(titanic_test_X, titanic_test_y), 2))\n",
    "\n",
    "most_frequent = DummyClassifier(strategy='most_frequent', random_state=42)\n",
    "most_frequent.fit(titanic_train_X, titanic_train_y)\n",
    "print(round(most_frequent.score(titanic_test_X, titanic_test_y), 2))"
   ]
  },
  {
   "cell_type": "markdown",
   "metadata": {},
   "source": [
    "Now let's fit a decision tree and see if it beats the baselines."
   ]
  },
  {
   "cell_type": "code",
   "execution_count": 15,
   "metadata": {},
   "outputs": [
    {
     "output_type": "execute_result",
     "data": {
      "text/plain": "0.79"
     },
     "metadata": {},
     "execution_count": 15
    }
   ],
   "source": [
    "from sklearn.pipeline import make_pipeline\n",
    "from sklearn.tree import DecisionTreeClassifier\n",
    "from sklearn.preprocessing import OneHotEncoder, OrdinalEncoder\n",
    "from sklearn.compose import make_column_transformer, make_column_selector\n",
    "from sklearn.impute import KNNImputer\n",
    "\n",
    "dt_pipeline = make_pipeline(\n",
    "    make_column_transformer(\n",
    "        (OrdinalEncoder(), [\"sex\"]),\n",
    "        (OneHotEncoder(), [\"deck\", \"embark_town\"]),\n",
    "        remainder=\"passthrough\",\n",
    "    ),\n",
    "    KNNImputer(),\n",
    "    DecisionTreeClassifier(max_depth=5),\n",
    ")\n",
    "dt_pipeline.fit(titanic_train_X, titanic_train_y)\n",
    "round(dt_pipeline.score(titanic_test_X, titanic_test_y), 2)"
   ]
  },
  {
   "cell_type": "markdown",
   "metadata": {},
   "source": [
    "The decision tree has achieved an accuracy of 0.79 which is 20 % more than the best baseline. This is a very good result and indication that the decision tree is worth using."
   ]
  },
  {
   "cell_type": "markdown",
   "metadata": {},
   "source": [
    "## Bayesian statistics\n",
    "To get to the naïve bayes we first need to be familiar with bayesian statistics. In the bayesian statistics the probability express the degree of belief some event will happen. This allows us to update our probability distribution estimates based on new evidence (this process is called [Bayesian inference](https://en.wikipedia.org/wiki/Bayesian_inference)). The fundamental theorem in Bayesian statistic is Bayes' theorem.\n",
    "\n",
    "$$ P(A|B) = \\frac{P(B|A)P(A)}{P(B)}$$\n",
    "\n",
    "We can use Bayes' theorem to update our belief of event $A$ based on the observation of event $B$. We start with prior probability ($P(A)$) and after observing event $B$ we update our beliefs and end up with posterior probability ($P(A|B)$) of event $A$.\n",
    "\n",
    "**The following exercise is not a medical advice!**\n",
    "\n",
    "Let's train this type of inference on simple example. Say a you start coughing and have fever, you test for coronavirus and the test is positive. How likely are you to actually have the coronavirus?\n",
    "\n",
    "<div class=\"alert alert-block alert-warning\"><b>Exercise 2</b></div>\n",
    "\n",
    "Calculate the posterior probability of $P(C=True|T=+)$ if the prevalence of coronavirus $P(C=True)$ is 0.001 (0.1 % of population) and test accuracy $P(T=+|C=True) = P(T=-|C=False)$ is 0.99 (99 %).\n",
    "\n",
    "You can use the fact that probability of a person testing positive is $P(T=+) = P(T=+|C=T) P(C=T) + P(T=+|C=F) P(C=F)$."
   ]
  },
  {
   "cell_type": "code",
   "execution_count": 16,
   "metadata": {},
   "outputs": [
    {
     "output_type": "stream",
     "name": "stdout",
     "text": "0.09\n"
    }
   ],
   "source": [
    "covid19_prevalence = 0.001  # P(C=True)\n",
    "test_accuracy = 0.99  # P(T=+|C=True) = P(T=-|C=False)\n",
    "# TODO: your code goes here...\n",
    "P_plus_true = test_accuracy\n",
    "P_true = covid19_prevalence\n",
    "P_false = 1 - P_true\n",
    "P_plus = P_plus_true * P_true + (1 - P_plus_true) * P_false\n",
    "P_true_plus = P_plus_true * P_true / P_plus\n",
    "print(round(P_true_plus, 2))"
   ]
  },
  {
   "cell_type": "markdown",
   "metadata": {},
   "source": [
    "Yes, it is really less than 10 %. You would need multiple tests (more evidence) for more definitive results. The main reason is the very small percentage of infected people. In other words, the prior $P(T=+)$ is tiny and you need multiple evidences to overcome it."
   ]
  },
  {
   "cell_type": "markdown",
   "metadata": {},
   "source": [
    "## Naïve Bayes\n",
    "Naïve bayes methods use exactly this bayesian inference to classify the example based on features (evindence). Using bayesian inference the probability of class $y$ is given by\n",
    "\n",
    "$$ P(y \\mid x_1, \\dots, x_n) = \\frac{P(y) P(x_1, \\dots x_n \\mid y)} {P(x_1, \\dots, x_n)} $$\n",
    "                                 \n",
    "where $x_1, \\dots x_n$ are feature values. The naïve bayes introduces \"naïve\" assumption that all features are conditionally independent resulting in the following probability.\n",
    "\n",
    "$$ P(y \\mid x_1, \\dots, x_n) = \\frac{P(y) \\prod_{i=1}^{n} P(x_i \\mid y)} {P(x_1, \\dots, x_n)} $$\n",
    "                                 \n",
    "Since the denominator is independent of which class probability we are estimating we can simplify the calculations and predict the class with maximal nominator. This is the final formula used in Naïve Bayes classifiers.\n",
    "\n",
    "$$ \\hat{y} = \\arg\\max_y P(y) \\prod_{i=1}^{n} P(x_i \\mid y) $$\n",
    "\n",
    "\n",
    "\n",
    "There are different variants of Naïve Bayes classifiers based on how they model $P(x_i \\mid y)$. You can read more on each of them in [scikit-lean guide](https://scikit-learn.org/stable/modules/naive_bayes.html). Now let's use the Naïve Bayes classifier for spam detection in SMS."
   ]
  },
  {
   "cell_type": "code",
   "execution_count": 17,
   "metadata": {},
   "outputs": [],
   "source": [
    "spam_train = pd.read_csv(\n",
    "    \"https://www.fi.muni.cz/~xcechak1/IB031/datasets/spam_train.csv\"\n",
    ")\n",
    "spam_test = pd.read_csv(\"https://www.fi.muni.cz/~xcechak1/IB031/datasets/spam_test.csv\")"
   ]
  },
  {
   "cell_type": "code",
   "execution_count": 18,
   "metadata": {},
   "outputs": [],
   "source": [
    "spam_train_X, spam_train_y = spam_train.text, spam_train.type\n",
    "spam_test_X, spam_test_y = spam_test.text, spam_test.type"
   ]
  },
  {
   "cell_type": "code",
   "execution_count": 19,
   "metadata": {},
   "outputs": [
    {
     "output_type": "execute_result",
     "data": {
      "text/plain": "0    Go until jurong point, crazy.. Available only ...\n1                        Ok lar... Joking wif u oni...\n2    Free entry in 2 a wkly comp to win FA Cup fina...\n3    U dun say so early hor... U c already then say...\n4    Nah I don't think he goes to usf, he lives aro...\nName: text, dtype: object"
     },
     "metadata": {},
     "execution_count": 19
    }
   ],
   "source": [
    "spam_train_X.head()"
   ]
  },
  {
   "cell_type": "markdown",
   "metadata": {},
   "source": [
    "We cannot use the classifier on raw strings we need to extract some features from the text. The most common and simple method is bag-of-words where we transform each string into a vector. Each element of this vector holds information how many times a given word has occurred in the string. The example belows shows should make it clear."
   ]
  },
  {
   "cell_type": "code",
   "execution_count": 20,
   "metadata": {},
   "outputs": [],
   "source": [
    "sample_sentences = [\n",
    "    \"the black cat\",\n",
    "    \"the cat and dog\",\n",
    "    \"black dog\",\n",
    "    \"black dog black dog\",\n",
    "]"
   ]
  },
  {
   "cell_type": "code",
   "execution_count": 21,
   "metadata": {},
   "outputs": [
    {
     "output_type": "stream",
     "name": "stdout",
     "text": "[[0 1 1 0 1]\n [1 0 1 1 1]\n [0 1 0 1 0]\n [0 2 0 2 0]]\n{'the': 4, 'black': 1, 'cat': 2, 'and': 0, 'dog': 3}\n"
    }
   ],
   "source": [
    "from sklearn.feature_extraction.text import CountVectorizer\n",
    "\n",
    "bag_of_words = CountVectorizer().fit(sample_sentences)\n",
    "print(bag_of_words.transform(sample_sentences).toarray())\n",
    "print(bag_of_words.vocabulary_)"
   ]
  },
  {
   "cell_type": "markdown",
   "metadata": {},
   "source": [
    "Here the first column correspond to occurrences of word \"and\", the second \"black\", and so on.\n",
    "\n",
    "<div class=\"alert alert-block alert-warning\"><b>Exercise 3</b></div>\n",
    "\n",
    "Use `CountVectorizer` and [Multinomial Naïve Bayes](https://scikit-learn.org/stable/modules/generated/sklearn.naive_bayes.MultinomialNB.html#sklearn.naive_bayes.MultinomialNB) to train a spam classifier on train set and then evaluate the classifier using `score` method on test set.\n",
    "\n",
    "You should get accuracy of $0.986$."
   ]
  },
  {
   "cell_type": "code",
   "execution_count": 33,
   "metadata": {},
   "outputs": [
    {
     "output_type": "execute_result",
     "data": {
      "text/plain": "0.986"
     },
     "metadata": {},
     "execution_count": 33
    }
   ],
   "source": [
    "# TODO: your code goes here...\n",
    "from sklearn.naive_bayes import MultinomialNB\n",
    "from sklearn.pipeline import make_pipeline\n",
    "\n",
    "spam_filter_pipeline = make_pipeline(\n",
    "    CountVectorizer(),\n",
    "    MultinomialNB()\n",
    ")\n",
    "\n",
    "spam_filter_pipeline.fit(spam_train_X, spam_train_y)\n",
    "round(spam_filter_pipeline.score(spam_test_X, spam_test_y), 3)"
   ]
  },
  {
   "cell_type": "markdown",
   "metadata": {},
   "source": [
    "This looks very good, but the dataset has unbalanced classes. There are much less spam messages than normal ones.\n",
    "\n",
    "<div class=\"alert alert-block alert-warning\"><b>Exercise 4</b></div>\n",
    "\n",
    "Train a baseline model that will constantly predict the majority class label `ham` (i.e., not spam) and evaluate it using `score` method."
   ]
  },
  {
   "cell_type": "code",
   "execution_count": 34,
   "metadata": {},
   "outputs": [
    {
     "output_type": "stream",
     "name": "stdout",
     "text": "0.87\n"
    }
   ],
   "source": [
    "# TODO: your code goes here...\n",
    "most_frequent = DummyClassifier(strategy='most_frequent', random_state=42)\n",
    "most_frequent.fit(spam_train_X, spam_train_y)\n",
    "print(round(most_frequent.score(spam_test_X, spam_test_y), 2))"
   ]
  },
  {
   "cell_type": "markdown",
   "metadata": {},
   "source": [
    "As you can see, even this simple classifier was able to obtain accuracy of almost 87 %. This makes the naïve bayes classifier results a bit less impresive but they are still good. \n",
    "\n",
    "Of course, accuracy is not the best metric for unbalanced data. F1 measure is more suited for this job. not really, just labeling everything as \"ham\" gives accuracy of 0.87. Accuracy is not good metric for imbalanced data, F1 measure is better. Use F1 score to evaluate spam filter and dummy model."
   ]
  },
  {
   "cell_type": "code",
   "execution_count": 35,
   "metadata": {},
   "outputs": [
    {
     "output_type": "execute_result",
     "data": {
      "text/plain": "array([0.99174236, 0.94413408])"
     },
     "metadata": {},
     "execution_count": 35
    }
   ],
   "source": [
    "from sklearn.metrics import f1_score\n",
    "\n",
    "f1_score(spam_filter_pipeline.predict(spam_test_X), spam_test_y, average=None)"
   ]
  },
  {
   "cell_type": "markdown",
   "metadata": {},
   "source": [
    "The classifier is doing really great job in identifying `ham` messages, but we are mostly concerned with false positives (`ham` messages labeled as `spam`) that the filter might block and the user might not receive."
   ]
  },
  {
   "cell_type": "code",
   "execution_count": 36,
   "metadata": {},
   "outputs": [],
   "source": [
    "(spam_train_X, spam_validation_X, spam_train_y, spam_validation_y,) = train_test_split(\n",
    "    spam_train_X, spam_train_y, test_size=0.2, random_state=42\n",
    ")"
   ]
  },
  {
   "cell_type": "markdown",
   "metadata": {},
   "source": [
    "<div class=\"alert alert-block alert-danger\"><b>Exercise 5</b></div>\n",
    "\n",
    "Experiment with various settings of `CountVectorizer` or try [TF-IDF Vectorizer](https://scikit-learn.org/stable/modules/generated/sklearn.feature_extraction.text.TfidfVectorizer.html) and various naïve bayes implementations. See which one will minimize false positives on validation dataset. Use confusion matrix for this evaluation. After deciding on pipeline, confirm that there is very low false positives also on test set."
   ]
  },
  {
   "cell_type": "code",
   "execution_count": 46,
   "metadata": {},
   "outputs": [
    {
     "output_type": "stream",
     "name": "stdout",
     "text": "0\n0\n"
    }
   ],
   "source": [
    "# TODO: your code goes here...\n",
    "from sklearn.feature_extraction.text import TfidfVectorizer\n",
    "from sklearn.metrics import confusion_matrix\n",
    "\n",
    "pipeline = make_pipeline(\n",
    "    #CountVectorizer(),\n",
    "    TfidfVectorizer(),\n",
    "    MultinomialNB()\n",
    ")\n",
    "\n",
    "pipeline.fit(spam_train_X, spam_train_y)\n",
    "pred = pipeline.predict(spam_validation_X)\n",
    "tn, fp, fn, tp = confusion_matrix(y_true=spam_validation_y, y_pred=pred).ravel()\n",
    "print(fp) #false positive is 0\n",
    "pred = pipeline.predict(spam_test_X)\n",
    "tn, fp, fn, tp = confusion_matrix(y_true=spam_test_y, y_pred=pred).ravel()\n",
    "print(fp)"
   ]
  }
 ],
 "metadata": {
  "kernelspec": {
   "display_name": "Python 3.7.6 64-bit",
   "language": "python",
   "name": "python37664bitc5604de6eed24f8f9c85663bd619da2a"
  }
 },
 "nbformat": 4,
 "nbformat_minor": 4
}