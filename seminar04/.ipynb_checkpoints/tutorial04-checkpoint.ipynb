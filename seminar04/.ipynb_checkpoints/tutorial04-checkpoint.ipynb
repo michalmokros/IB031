{
 "cells": [
  {
   "cell_type": "markdown",
   "metadata": {
    "Collapsed": "false"
   },
   "source": [
    "# Tutorial 04 – Preprocessing + Instance Based Learning"
   ]
  },
  {
   "cell_type": "code",
   "execution_count": 1,
   "metadata": {},
   "outputs": [],
   "source": [
    "import pandas as pd\n",
    "import numpy as np\n",
    "import matplotlib.pyplot as plt\n",
    "import seaborn as sns\n",
    "\n",
    "sns.set()"
   ]
  },
  {
   "cell_type": "markdown",
   "metadata": {},
   "source": [
    "## Preprocessing\n",
    "\n",
    "The preprocessing is crutial part of any machine learning. Having clean and high quality data is often more beneficial than using complex state of the art machine learning model on poor data. After all, machine learning is just statistics on steroids and while you can do statitistics on random noise any conclusions will be worthless."
   ]
  },
  {
   "cell_type": "markdown",
   "metadata": {},
   "source": [
    "### Standardization and Scaling\n",
    "\n",
    "This preprocessing step is transforming feature values so that they have a \"nicer\" distribution. There is no universal definition of nice distribution, but some models we will encounter later in the semester for example require features to be centered around zero and have normal distribution. This can be achieved through transformation known as standardization that we have seen in the tutorial 03. There we used [StandardScaler](https://scikit-learn.org/stable/modules/generated/sklearn.preprocessing.StandardScaler.html#sklearn.preprocessing.StandardScaler) to transform each feature to have zero mean and unit standard deviation.\n",
    "\n",
    "Other models (including KNN in this tutorial) require features to be of the same magnitudes. Otherwise features with high magnitudes will dominate and the model will be bias towards deciding only according to these features. `scikit-lean` provides [MinMaxScaler](https://scikit-learn.org/stable/modules/generated/sklearn.preprocessing.MinMaxScaler.html#sklearn.preprocessing.MinMaxScaler) and [MaxAbsScaler](https://scikit-learn.org/stable/modules/generated/sklearn.preprocessing.MaxAbsScaler.html#sklearn.preprocessing.MaxAbsScaler) for scaling features to the same magnitude. This way the relative differences between examples are preserved but differences between features.\n",
    "\n",
    "For example, suppose we have a dataset with cake recipes with amount of flour in grams and number of eggs. Then difference between 400g and 415g of flour (roughly one tablespoon) would be the same difference for the model as 5 or 20 eggs. After scaling, the difference in flour content would be smaller then 0.1 but difference in eggs would around 1.\n",
    "\n",
    "All scalers mentioned above are sensitive to outliers. So unless you remove them before scaling you might want to use more robust scaler. One such is [RobustScaler](https://scikit-learn.org/stable/modules/generated/sklearn.preprocessing.RobustScaler.html#sklearn.preprocessing.RobustScaler) that scale values base on quantile values.\n",
    "\n",
    "Another more exotic variant of scaling is quantile scaling done by [QuantileTransformer](https://scikit-learn.org/stable/modules/generated/sklearn.preprocessing.QuantileTransformer.html#sklearn.preprocessing.QuantileTransformer). Here the feature values are scaled to match a desired output distribution. By default this is uniform distribution between [0, 1]. This transformation is non-linear, meaning relative differences between feature values are not preserved. On the other hand, the value rank (or ordering) is preserved. This kind of transformation is thus useful in recommendation or ranking problems.\n",
    "\n",
    "Take a look at [transformation examples](https://scikit-learn.org/stable/auto_examples/preprocessing/plot_all_scaling.html#) in `scikit-learn` documentation and you can also read more on their properties [here](https://scikit-learn.org/stable/modules/preprocessing.html#standardization-or-mean-removal-and-variance-scaling)."
   ]
  },
  {
   "cell_type": "markdown",
   "metadata": {},
   "source": [
    "### Missing Values\n",
    "\n",
    "Missing values are common phenomena in real life data. A measuring sensor can malfunction, people forget to fill out few questions, or some informations may be classified or censored to protect privacy. There are, however, key distinction in mechanisms that cause missing data based on what data is actually missing.\n",
    "\n",
    "#### Missing Completely at Random (MCAR)\n",
    "In this case there is no relation between what is missing and what is the true value that would be otherwise recorded. Typical example is a faulty sensor that sometimes stops working for no apparent reason.\n",
    "\n",
    "#### Missing at Random (MAR)\n",
    "In this case there is relation between what data is missing and what data is observed but not the actual missing vales. So, for example, if men are more likely to tell you their weight than women, weight is MAR.\n",
    "\n",
    "#### Missing Not at Random (MNAR)\n",
    "In this case there is a relation between what data is missing and what are the true missing values. Let's say we have a temperature sensor that will stop working if the ambient temperature is above 35 °C. Data from this sensor is MNAR and any analysis done on them will be biased towards temperatures below 35 °C where the sensor is working and recording data.\n",
    "\n",
    "You can read more on these mechanisms in this more statistical [blog post](https://www.theanalysisfactor.com/missing-data-mechanism/).\n",
    "\n",
    "Knowing the mechanisms of missing values is crucial if we want to make correct conclusions or train an unbiased machine learning model. While MCAR and MAR can be imputed with varying difficulty MNAR are almost impossible to impute.\n",
    "\n",
    "#### Practical examples\n",
    "Let's create an artificial missing values using different mechanisms. We will use simple dataset with data about three different species of iris flower."
   ]
  },
  {
   "cell_type": "code",
   "execution_count": 4,
   "metadata": {},
   "outputs": [
    {
     "data": {
      "text/html": [
       "<div>\n",
       "<style scoped>\n",
       "    .dataframe tbody tr th:only-of-type {\n",
       "        vertical-align: middle;\n",
       "    }\n",
       "\n",
       "    .dataframe tbody tr th {\n",
       "        vertical-align: top;\n",
       "    }\n",
       "\n",
       "    .dataframe thead th {\n",
       "        text-align: right;\n",
       "    }\n",
       "</style>\n",
       "<table border=\"1\" class=\"dataframe\">\n",
       "  <thead>\n",
       "    <tr style=\"text-align: right;\">\n",
       "      <th></th>\n",
       "      <th>sepal length (cm)</th>\n",
       "      <th>sepal width (cm)</th>\n",
       "      <th>petal length (cm)</th>\n",
       "      <th>petal width (cm)</th>\n",
       "      <th>species</th>\n",
       "    </tr>\n",
       "  </thead>\n",
       "  <tbody>\n",
       "    <tr>\n",
       "      <th>0</th>\n",
       "      <td>5.1</td>\n",
       "      <td>3.5</td>\n",
       "      <td>1.4</td>\n",
       "      <td>0.2</td>\n",
       "      <td>setosa</td>\n",
       "    </tr>\n",
       "    <tr>\n",
       "      <th>1</th>\n",
       "      <td>4.9</td>\n",
       "      <td>3.0</td>\n",
       "      <td>1.4</td>\n",
       "      <td>0.2</td>\n",
       "      <td>setosa</td>\n",
       "    </tr>\n",
       "    <tr>\n",
       "      <th>2</th>\n",
       "      <td>4.7</td>\n",
       "      <td>3.2</td>\n",
       "      <td>1.3</td>\n",
       "      <td>0.2</td>\n",
       "      <td>setosa</td>\n",
       "    </tr>\n",
       "    <tr>\n",
       "      <th>3</th>\n",
       "      <td>4.6</td>\n",
       "      <td>3.1</td>\n",
       "      <td>1.5</td>\n",
       "      <td>0.2</td>\n",
       "      <td>setosa</td>\n",
       "    </tr>\n",
       "    <tr>\n",
       "      <th>4</th>\n",
       "      <td>5.0</td>\n",
       "      <td>3.6</td>\n",
       "      <td>1.4</td>\n",
       "      <td>0.2</td>\n",
       "      <td>setosa</td>\n",
       "    </tr>\n",
       "  </tbody>\n",
       "</table>\n",
       "</div>"
      ],
      "text/plain": [
       "   sepal length (cm)  sepal width (cm)  petal length (cm)  petal width (cm)  \\\n",
       "0                5.1               3.5                1.4               0.2   \n",
       "1                4.9               3.0                1.4               0.2   \n",
       "2                4.7               3.2                1.3               0.2   \n",
       "3                4.6               3.1                1.5               0.2   \n",
       "4                5.0               3.6                1.4               0.2   \n",
       "\n",
       "  species  \n",
       "0  setosa  \n",
       "1  setosa  \n",
       "2  setosa  \n",
       "3  setosa  \n",
       "4  setosa  "
      ]
     },
     "execution_count": 4,
     "metadata": {},
     "output_type": "execute_result"
    }
   ],
   "source": [
    "from sklearn.datasets import load_iris\n",
    "\n",
    "iris = load_iris()\n",
    "iris_df = pd.DataFrame(iris.data, columns=iris.feature_names)\n",
    "iris_df[\"species\"] = pd.Categorical(iris.target_names[iris.target])\n",
    "iris_df.head()"
   ]
  },
  {
   "cell_type": "markdown",
   "metadata": {},
   "source": [
    "To simplify things a bit, let's just add missing values to feature petal length and always make 30 % of data missing."
   ]
  },
  {
   "cell_type": "markdown",
   "metadata": {},
   "source": [
    "MCAR"
   ]
  },
  {
   "cell_type": "code",
   "execution_count": 9,
   "metadata": {},
   "outputs": [
    {
     "data": {
      "text/html": [
       "<div>\n",
       "<style scoped>\n",
       "    .dataframe tbody tr th:only-of-type {\n",
       "        vertical-align: middle;\n",
       "    }\n",
       "\n",
       "    .dataframe tbody tr th {\n",
       "        vertical-align: top;\n",
       "    }\n",
       "\n",
       "    .dataframe thead th {\n",
       "        text-align: right;\n",
       "    }\n",
       "</style>\n",
       "<table border=\"1\" class=\"dataframe\">\n",
       "  <thead>\n",
       "    <tr style=\"text-align: right;\">\n",
       "      <th></th>\n",
       "      <th>sepal length (cm)</th>\n",
       "      <th>sepal width (cm)</th>\n",
       "      <th>petal length (cm)</th>\n",
       "      <th>petal width (cm)</th>\n",
       "      <th>species</th>\n",
       "    </tr>\n",
       "  </thead>\n",
       "  <tbody>\n",
       "    <tr>\n",
       "      <th>0</th>\n",
       "      <td>5.1</td>\n",
       "      <td>3.5</td>\n",
       "      <td>1.4</td>\n",
       "      <td>0.2</td>\n",
       "      <td>setosa</td>\n",
       "    </tr>\n",
       "    <tr>\n",
       "      <th>1</th>\n",
       "      <td>4.9</td>\n",
       "      <td>3.0</td>\n",
       "      <td>1.4</td>\n",
       "      <td>0.2</td>\n",
       "      <td>setosa</td>\n",
       "    </tr>\n",
       "    <tr>\n",
       "      <th>2</th>\n",
       "      <td>4.7</td>\n",
       "      <td>3.2</td>\n",
       "      <td>1.3</td>\n",
       "      <td>0.2</td>\n",
       "      <td>setosa</td>\n",
       "    </tr>\n",
       "    <tr>\n",
       "      <th>3</th>\n",
       "      <td>4.6</td>\n",
       "      <td>3.1</td>\n",
       "      <td>1.5</td>\n",
       "      <td>0.2</td>\n",
       "      <td>setosa</td>\n",
       "    </tr>\n",
       "    <tr>\n",
       "      <th>4</th>\n",
       "      <td>5.0</td>\n",
       "      <td>3.6</td>\n",
       "      <td>NaN</td>\n",
       "      <td>0.2</td>\n",
       "      <td>setosa</td>\n",
       "    </tr>\n",
       "  </tbody>\n",
       "</table>\n",
       "</div>"
      ],
      "text/plain": [
       "   sepal length (cm)  sepal width (cm)  petal length (cm)  petal width (cm)  \\\n",
       "0                5.1               3.5                1.4               0.2   \n",
       "1                4.9               3.0                1.4               0.2   \n",
       "2                4.7               3.2                1.3               0.2   \n",
       "3                4.6               3.1                1.5               0.2   \n",
       "4                5.0               3.6                NaN               0.2   \n",
       "\n",
       "  species  \n",
       "0  setosa  \n",
       "1  setosa  \n",
       "2  setosa  \n",
       "3  setosa  \n",
       "4  setosa  "
      ]
     },
     "execution_count": 9,
     "metadata": {},
     "output_type": "execute_result"
    }
   ],
   "source": [
    "np.random.seed(42)\n",
    "na_indices = np.random.choice(len(iris_df), int(len(iris_df) * 0.3), replace=False)\n",
    "iris_mcar = iris_df.copy()\n",
    "iris_mcar.iloc[na_indices, 2] = np.nan\n",
    "iris_mcar.head()"
   ]
  },
  {
   "cell_type": "markdown",
   "metadata": {},
   "source": [
    "MAR, data is missing based on species but not based on value of feature"
   ]
  },
  {
   "cell_type": "code",
   "execution_count": 15,
   "metadata": {},
   "outputs": [
    {
     "data": {
      "text/html": [
       "<div>\n",
       "<style scoped>\n",
       "    .dataframe tbody tr th:only-of-type {\n",
       "        vertical-align: middle;\n",
       "    }\n",
       "\n",
       "    .dataframe tbody tr th {\n",
       "        vertical-align: top;\n",
       "    }\n",
       "\n",
       "    .dataframe thead th {\n",
       "        text-align: right;\n",
       "    }\n",
       "</style>\n",
       "<table border=\"1\" class=\"dataframe\">\n",
       "  <thead>\n",
       "    <tr style=\"text-align: right;\">\n",
       "      <th></th>\n",
       "      <th>sepal length (cm)</th>\n",
       "      <th>sepal width (cm)</th>\n",
       "      <th>petal length (cm)</th>\n",
       "      <th>petal width (cm)</th>\n",
       "      <th>species</th>\n",
       "    </tr>\n",
       "  </thead>\n",
       "  <tbody>\n",
       "    <tr>\n",
       "      <th>145</th>\n",
       "      <td>6.7</td>\n",
       "      <td>3.0</td>\n",
       "      <td>NaN</td>\n",
       "      <td>2.3</td>\n",
       "      <td>virginica</td>\n",
       "    </tr>\n",
       "    <tr>\n",
       "      <th>146</th>\n",
       "      <td>6.3</td>\n",
       "      <td>2.5</td>\n",
       "      <td>NaN</td>\n",
       "      <td>1.9</td>\n",
       "      <td>virginica</td>\n",
       "    </tr>\n",
       "    <tr>\n",
       "      <th>147</th>\n",
       "      <td>6.5</td>\n",
       "      <td>3.0</td>\n",
       "      <td>NaN</td>\n",
       "      <td>2.0</td>\n",
       "      <td>virginica</td>\n",
       "    </tr>\n",
       "    <tr>\n",
       "      <th>148</th>\n",
       "      <td>6.2</td>\n",
       "      <td>3.4</td>\n",
       "      <td>NaN</td>\n",
       "      <td>2.3</td>\n",
       "      <td>virginica</td>\n",
       "    </tr>\n",
       "    <tr>\n",
       "      <th>149</th>\n",
       "      <td>5.9</td>\n",
       "      <td>3.0</td>\n",
       "      <td>5.1</td>\n",
       "      <td>1.8</td>\n",
       "      <td>virginica</td>\n",
       "    </tr>\n",
       "  </tbody>\n",
       "</table>\n",
       "</div>"
      ],
      "text/plain": [
       "     sepal length (cm)  sepal width (cm)  petal length (cm)  petal width (cm)  \\\n",
       "145                6.7               3.0                NaN               2.3   \n",
       "146                6.3               2.5                NaN               1.9   \n",
       "147                6.5               3.0                NaN               2.0   \n",
       "148                6.2               3.4                NaN               2.3   \n",
       "149                5.9               3.0                5.1               1.8   \n",
       "\n",
       "       species  \n",
       "145  virginica  \n",
       "146  virginica  \n",
       "147  virginica  \n",
       "148  virginica  \n",
       "149  virginica  "
      ]
     },
     "execution_count": 15,
     "metadata": {},
     "output_type": "execute_result"
    }
   ],
   "source": [
    "np.random.seed(42)\n",
    "na_indices = np.random.choice(\n",
    "    len(iris_df),\n",
    "    int(len(iris_df) * 0.3),\n",
    "    replace=False,\n",
    "    p=iris_df.species.cat.codes * 2 / sum(iris_df.species.cat.codes * 2),\n",
    ")\n",
    "iris_mar = iris_df.copy()\n",
    "iris_mar.iloc[na_indices, 2] = np.nan\n",
    "iris_mar.tail()"
   ]
  },
  {
   "cell_type": "markdown",
   "metadata": {},
   "source": [
    "MNAR, higher values of feature are more likely to be missing (4th power is just to exaggerate a bit)"
   ]
  },
  {
   "cell_type": "code",
   "execution_count": 17,
   "metadata": {},
   "outputs": [
    {
     "data": {
      "text/html": [
       "<div>\n",
       "<style scoped>\n",
       "    .dataframe tbody tr th:only-of-type {\n",
       "        vertical-align: middle;\n",
       "    }\n",
       "\n",
       "    .dataframe tbody tr th {\n",
       "        vertical-align: top;\n",
       "    }\n",
       "\n",
       "    .dataframe thead th {\n",
       "        text-align: right;\n",
       "    }\n",
       "</style>\n",
       "<table border=\"1\" class=\"dataframe\">\n",
       "  <thead>\n",
       "    <tr style=\"text-align: right;\">\n",
       "      <th></th>\n",
       "      <th>sepal length (cm)</th>\n",
       "      <th>sepal width (cm)</th>\n",
       "      <th>petal length (cm)</th>\n",
       "      <th>petal width (cm)</th>\n",
       "      <th>species</th>\n",
       "    </tr>\n",
       "  </thead>\n",
       "  <tbody>\n",
       "    <tr>\n",
       "      <th>145</th>\n",
       "      <td>6.7</td>\n",
       "      <td>3.0</td>\n",
       "      <td>NaN</td>\n",
       "      <td>2.3</td>\n",
       "      <td>virginica</td>\n",
       "    </tr>\n",
       "    <tr>\n",
       "      <th>146</th>\n",
       "      <td>6.3</td>\n",
       "      <td>2.5</td>\n",
       "      <td>NaN</td>\n",
       "      <td>1.9</td>\n",
       "      <td>virginica</td>\n",
       "    </tr>\n",
       "    <tr>\n",
       "      <th>147</th>\n",
       "      <td>6.5</td>\n",
       "      <td>3.0</td>\n",
       "      <td>NaN</td>\n",
       "      <td>2.0</td>\n",
       "      <td>virginica</td>\n",
       "    </tr>\n",
       "    <tr>\n",
       "      <th>148</th>\n",
       "      <td>6.2</td>\n",
       "      <td>3.4</td>\n",
       "      <td>NaN</td>\n",
       "      <td>2.3</td>\n",
       "      <td>virginica</td>\n",
       "    </tr>\n",
       "    <tr>\n",
       "      <th>149</th>\n",
       "      <td>5.9</td>\n",
       "      <td>3.0</td>\n",
       "      <td>5.1</td>\n",
       "      <td>1.8</td>\n",
       "      <td>virginica</td>\n",
       "    </tr>\n",
       "  </tbody>\n",
       "</table>\n",
       "</div>"
      ],
      "text/plain": [
       "     sepal length (cm)  sepal width (cm)  petal length (cm)  petal width (cm)  \\\n",
       "145                6.7               3.0                NaN               2.3   \n",
       "146                6.3               2.5                NaN               1.9   \n",
       "147                6.5               3.0                NaN               2.0   \n",
       "148                6.2               3.4                NaN               2.3   \n",
       "149                5.9               3.0                5.1               1.8   \n",
       "\n",
       "       species  \n",
       "145  virginica  \n",
       "146  virginica  \n",
       "147  virginica  \n",
       "148  virginica  \n",
       "149  virginica  "
      ]
     },
     "execution_count": 17,
     "metadata": {},
     "output_type": "execute_result"
    }
   ],
   "source": [
    "np.random.seed(42)\n",
    "na_indices = np.random.choice(\n",
    "    len(iris_df),\n",
    "    int(len(iris_df) * 0.3),\n",
    "    replace=False,\n",
    "    p=iris_df[\"petal length (cm)\"] ** 4 / sum(iris_df[\"petal length (cm)\"] ** 4),\n",
    ")\n",
    "iris_mnar = iris_df.copy()\n",
    "iris_mnar.iloc[na_indices, 2] = np.nan\n",
    "iris_mnar.tail()"
   ]
  },
  {
   "cell_type": "markdown",
   "metadata": {},
   "source": [
    "We can inspect the data both visually"
   ]
  },
  {
   "cell_type": "code",
   "execution_count": 18,
   "metadata": {},
   "outputs": [
    {
     "data": {
      "text/plain": [
       "Text(0.5, 1.0, 'MNAR')"
      ]
     },
     "execution_count": 18,
     "metadata": {},
     "output_type": "execute_result"
    },
    {
     "data": {
      "image/png": "[encoded data removed]",
      "text/plain": [
       "<Figure size 720x720 with 4 Axes>"
      ]
     },
     "metadata": {},
     "output_type": "display_data"
    }
   ],
   "source": [
    "fig, axes = plt.subplots(2, 2, figsize=(10, 10), sharex=True, sharey=True)\n",
    "\n",
    "fig.suptitle(\"Comparison of different missing values\")\n",
    "\n",
    "sns.scatterplot(\n",
    "    data=iris_df,\n",
    "    x=\"sepal width (cm)\",\n",
    "    y=\"petal length (cm)\",\n",
    "    hue=\"species\",\n",
    "    ax=axes[0][0],\n",
    ")\n",
    "axes[0][0].set_title(\"No missing data\")\n",
    "sns.scatterplot(\n",
    "    data=iris_mcar,\n",
    "    x=\"sepal width (cm)\",\n",
    "    y=\"petal length (cm)\",\n",
    "    hue=\"species\",\n",
    "    ax=axes[0][1],\n",
    ")\n",
    "axes[0][1].set_title(\"MCAR\")\n",
    "sns.scatterplot(\n",
    "    data=iris_mar,\n",
    "    x=\"sepal width (cm)\",\n",
    "    y=\"petal length (cm)\",\n",
    "    hue=\"species\",\n",
    "    ax=axes[1][0],\n",
    ")\n",
    "axes[1][0].set_title(\"MAR\")\n",
    "sns.scatterplot(\n",
    "    data=iris_mnar,\n",
    "    x=\"sepal width (cm)\",\n",
    "    y=\"petal length (cm)\",\n",
    "    hue=\"species\",\n",
    "    ax=axes[1][1],\n",
    ")\n",
    "axes[1][1].set_title(\"MNAR\")"
   ]
  },
  {
   "cell_type": "markdown",
   "metadata": {},
   "source": [
    "and using statistics."
   ]
  },
  {
   "cell_type": "code",
   "execution_count": 19,
   "metadata": {},
   "outputs": [
    {
     "name": "stdout",
     "output_type": "stream",
     "text": [
      "No missing data\n",
      "species\n",
      "setosa        1.462\n",
      "versicolor    4.260\n",
      "virginica     5.552\n",
      "Name: petal length (cm), dtype: float64\n",
      "MCAR\n",
      "species\n",
      "setosa        1.464516\n",
      "versicolor    4.210811\n",
      "virginica     5.545946\n",
      "Name: petal length (cm), dtype: float64\n",
      "MAR\n",
      "species\n",
      "setosa        1.462000\n",
      "versicolor    4.275000\n",
      "virginica     5.626087\n",
      "Name: petal length (cm), dtype: float64\n",
      "MNAR\n",
      "species\n",
      "setosa        1.462\n",
      "versicolor    4.160\n",
      "virginica     5.425\n",
      "Name: petal length (cm), dtype: float64\n"
     ]
    }
   ],
   "source": [
    "print(\"No missing data\")\n",
    "print(iris_df.groupby(\"species\")[\"petal length (cm)\"].mean())\n",
    "\n",
    "print(\"MCAR\")\n",
    "print(iris_mcar.groupby(\"species\")[\"petal length (cm)\"].mean())\n",
    "\n",
    "print(\"MAR\")\n",
    "print(iris_mar.groupby(\"species\")[\"petal length (cm)\"].mean())\n",
    "\n",
    "print(\"MNAR\")\n",
    "print(iris_mnar.groupby(\"species\")[\"petal length (cm)\"].mean())"
   ]
  },
  {
   "cell_type": "markdown",
   "metadata": {},
   "source": [
    "Notice there is a decrease of mean petal length in case of MNAR caused by systematic missing data. Higher values were more likely to be missing.\n",
    "\n",
    "### What to do with missing data\n",
    "There are two main approaches.\n",
    "\n",
    "1. Discard any examples and/or features with missing data.\n",
    "2. Impute missing date with some plausible values.\n",
    "\n",
    "Option 1) is a bit crude and will leave us with less data to train the model. It is, however, acceptable approach in cases where a) we have a lot of data and only few missing values or b) the feature has mostly missing values.\n",
    "\n",
    "Option 2) is more typical and aims at filling the missing data (imputing) with values that are at least plausible. We have used [SimpleImputer](https://scikit-learn.org/stable/modules/generated/sklearn.impute.SimpleImputer.html) in tutorial 03 that is imputing values based on simple statistics (mean, median, mode) or user predefined constant. This is fine as long as the features are independent. If the features are correlated or otherwise related, `SimpleImputer` might be too simple.\n",
    "\n",
    "Luckily, `scikit-learn` provides two more sophisticated imputers – [IterativeImputer](https://scikit-learn.org/stable/modules/generated/sklearn.impute.IterativeImputer.html#) and [KNNImputer](https://scikit-learn.org/stable/modules/generated/sklearn.impute.KNNImputer.html#). `IterativeImputer` tries to model each feature as a function of the remaining features and predicts the missing values. `KNNImputer` looks at `k` closest examples (neighbors) in the data and imputes a weighted average of the feature values in these neighbors. Note that `IterativeImputer` is still a bit experimental and needs to be explicitly enabled by importing from `sklearn.experimental` (see below)."
   ]
  },
  {
   "cell_type": "markdown",
   "metadata": {
    "Collapsed": "false"
   },
   "source": [
    "<div class=\"alert alert-block alert-warning\"><b>Exercise 1</b></div>\n",
    "\n",
    "We would like to evaluate the performance of each imputer when compared to the original values we removed. Use all **three imputers** to impute missing values of the **three datasets** with missing values created above. Next, evaluate their performance by **computing RMSE** of the imputed values and actual values in the original dataset.\n",
    "\n",
    "You can use function computing RMSE from previous tutorials or the one from `scikit-learn`. Do not forget to deal with categorical column. Expected RMSE are in the table below.\n",
    "\n",
    "| Imputer | Dataset | RMSE |\n",
    "|---------|---------|------|\n",
    "|Simple   | MCAR    | 1.027|\n",
    "|Iterative| MCAR    | 0.153|\n",
    "|KNN      | MCAR    | 0.138|\n",
    "|Simple   | MAR     | 1.044|\n",
    "|Iterative| MAR     | 0.150|\n",
    "|KNN      | MAR     | 0.157|\n",
    "|Simple   | MNAR    | 1.242|\n",
    "|Iterative| MNAR    | 0.185|\n",
    "|KNN      | MNAR    | 0.217|"
   ]
  },
  {
   "cell_type": "code",
   "execution_count": null,
   "metadata": {},
   "outputs": [],
   "source": [
    "from sklearn.experimental import enable_iterative_imputer\n",
    "from sklearn.impute import SimpleImputer, KNNImputer, IterativeImputer\n",
    "\n",
    "# TODO: your code goes here..."
   ]
  },
  {
   "cell_type": "markdown",
   "metadata": {},
   "source": [
    "### Class Balancing\n",
    "It may happen that classes we would like to classify are not equally represented in the training data. There are four strategies to handle imbalanced classes.\n",
    "1. Up-sample the under-represented class(es).\n",
    "2. Down-sample the over-represented class(es).\n",
    "3. Add weights cost function to penalize model more for getting under-represented class wrong.\n",
    "4. Use some sophisticated technique to create new example of under-represented classes by recombining them.\n",
    "5. Reformulate the problem as an outlier detection where outliers are example of the under-represented class(es).\n",
    "\n",
    "Since neither decision trees nor KNN is really affected by up/down-sampling we will return to class balancing in later tutorials."
   ]
  },
  {
   "cell_type": "markdown",
   "metadata": {},
   "source": [
    "### Feature engineering\n",
    "\n",
    "This part of preprocessing covers creation of new features from existing features (feature extraction), projecting features, and selecting only subset of features that is most useful for the model (feature selection). We will take more in depth look at this part of preprocessing later in the semester."
   ]
  },
  {
   "cell_type": "markdown",
   "metadata": {},
   "source": [
    "## K Nearest Neighbors\n",
    "\n",
    "We have KNN as an imputation model but it can be used as a standalone model for predictions. It can be used both for classification (with majority class between neighbors) and regression (weighted average of values of neighbors). KNN can be useful model in cases where there are few training examples. Especially if the training data is of high quality – correct labels without noise and training examples cover typical cases for each class.\n",
    "\n",
    "We can demonstrate it in the next exercise. We would like to predict person's temperament type based on the answers in a questionnaire. To do this we have a dataset with only four examples, one for each temperament type. These examples represent answers of \"prototypical\" person for each temperament type."
   ]
  },
  {
   "cell_type": "markdown",
   "metadata": {
    "Collapsed": "false"
   },
   "source": [
    "<div class=\"alert alert-block alert-warning\"><b>Exercise 2</b></div>\n",
    "\n",
    "1. Load a [temperament dataset](https://www.fi.muni.cz/~xcechak1/IB031/datasets/temperament_prototypes.csv)\n",
    "2. Train a [KNeighborsClassifier](https://scikit-learn.org/stable/modules/generated/sklearn.neighbors.KNeighborsClassifier.html) on it. Set the number of neighbors to 1.\n",
    "3. Once trained, head over to [online Eysenck temperament test](http://similarminds.com/eysenck.html) and fill out the test for your self. Before submitting the test, mark your answers into a data frame. The answer are encoded as integers between 0 and 4 where 0 means `Very Inaccurate` and 4 means `Very Accurare`.\n",
    "4. Predict the class for your self using the KNN model.\n",
    "5. Submit the online test and compare the results.\n",
    "\n",
    "Notes: The order of questions in the online test is randomized. Make sure to mark your answers to correct column."
   ]
  },
  {
   "cell_type": "code",
   "execution_count": 26,
   "metadata": {},
   "outputs": [],
   "source": [
    "# TODO: your code goes here...\n",
    "temperament_prototypes = pd.read_csv(\"temperament_prototypes\")\n",
    "temperament_prototypes.head()\n",
    "\n",
    "X_me = pd.DataFrame(\n",
    "    {\n",
    "        \"I like being in high energy environments.\": False,# TODO: your answer,\n",
    "        \"I am quiet around others.\": True,# TODO: your answer,\n",
    "        \"I have no trouble approaching people.\": False,# TODO: your answer,\n",
    "        \"I am at ease around others.\": False,# TODO: your answer,\n",
    "        \"I enjoy meeting new people.\": False,# TODO: your answer,\n",
    "        \"I am very talkative.\": False,# TODO: your answer,\n",
    "        \"I enjoy social gatherings.\": False,# TODO: your answer,\n",
    "        \"I am outgoing.\": False,# TODO: your answer,\n",
    "        \"I know how to get people to have fun.\": False,# TODO: your answer,\n",
    "        \"I am very energetic.\": False,# TODO: your answer,\n",
    "        \"I make friends easily.\": False,# TODO: your answer,\n",
    "        \"I enjoy being part of a group.\": False,# TODO: your answer,\n",
    "        \"I fear for the worst.\": True,# TODO: your answer,\n",
    "        \"I am very tense.\": True,# TODO: your answer,\n",
    "        \"I sometimes feel extremely sad for no reason.\": True,# TODO: your answer,\n",
    "        \"I frequently feel guilty.\": True,# TODO: your answer,\n",
    "        \"I suffer from anxiety.\": True,# TODO: your answer,\n",
    "        \"I tend to brood on past mistakes.\": True,# TODO: your answer,\n",
    "        \"I frequently feel frustrated.\": True,# TODO: your answer,\n",
    "        \"I am hypersensitive.\": True,# TODO: your answer,\n",
    "        \"I often feel lonely.\": True,# TODO: your answer,\n",
    "        \"I am very moody.\": False,# TODO: your answer,\n",
    "        \"I tend to be nervous.\": True,# TODO: your answer,\n",
    "        \"I frequently worry.\": True,# TODO: your answer,\n",
    "        \"Being in debt would not worry me.\": False,# TODO: your answer,\n",
    "        \"I behave properly.\": True,# TODO: your answer,\n",
    "        \"I respect authority.\": True,# TODO: your answer,\n",
    "        \"I try not to be rude to people.\": True,# TODO: your answer,\n",
    "        \"I prefer to go my own way than live by the rules.\": False,# TODO: your answer,\n",
    "        \"I would like other people to be afraid of me.\": False,# TODO: your answer,\n",
    "        \"I would rather play by the rules.\": True,# TODO: your answer,\n",
    "        \"I think people are overly cautious.\": False,# TODO: your answer,\n",
    "        \"I tend to be more comfortable with the known than the unknown.\": True,# TODO: your answer,\n",
    "        \"I can be egocentric.\": False,# TODO: your answer,\n",
    "        \"I can be unsympathetic.\": True,# TODO: your answer,\n",
    "        \"I like to be intimidating.\": False# TODO: your answer,\n",
    "    },\n",
    "    index=[0],\n",
    ")\n",
    "\n",
    "# TODO: predics your temperament type..."
   ]
  },
  {
   "cell_type": "markdown",
   "metadata": {
    "Collapsed": "false"
   },
   "source": [
    "<div class=\"alert alert-block alert-danger\"><b>Exercise 3</b></div>\n",
    "\n",
    "Let's use KNN to predict continuous variable. We will try to predict how much miles per gallon (mpg) can a car make based on its characteristics. The code for loading dataset is already written. Your job is to do the preprocessing, fitting the [KNeighborsRegressor](https://scikit-learn.org/stable/modules/generated/sklearn.neighbors.KNeighborsRegressor.html) model and then evaluating it using RMSE on test data.\n",
    "\n",
    "You can get to RMSE of $2.135$ if you play a bit."
   ]
  },
  {
   "cell_type": "code",
   "execution_count": null,
   "metadata": {},
   "outputs": [],
   "source": [
    "from sklearn.model_selection import train_test_split\n",
    "\n",
    "mpg = sns.load_dataset(\"mpg\")\n",
    "# TODO: convert categorical features to dtype Categorical...\n",
    "X, y = mpg.drop(columns=[\"mpg\"]), mpg.mpg\n",
    "\n",
    "X_train, X_test, y_train, y_test = train_test_split(\n",
    "    X, y, test_size=0.2, random_state=42\n",
    ")\n",
    "\n",
    "# TODO: make a pipeline, fit it, and evaluat it..."
   ]
  }
 ],
 "metadata": {
  "kernelspec": {
   "display_name": "Python 3",
   "language": "python",
   "name": "python3"
  },
  "language_info": {
   "codemirror_mode": {
    "name": "ipython",
    "version": 3
   },
   "file_extension": ".py",
   "mimetype": "text/x-python",
   "name": "python",
   "nbconvert_exporter": "python",
   "pygments_lexer": "ipython3",
   "version": "3.7.6"
  }
 },
 "nbformat": 4,
 "nbformat_minor": 4
}
